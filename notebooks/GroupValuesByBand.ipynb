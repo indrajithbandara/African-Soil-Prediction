{
 "cells": [
  {
   "cell_type": "code",
   "execution_count": 1,
   "metadata": {
    "collapsed": true
   },
   "outputs": [],
   "source": [
    "%matplotlib inline\n",
    "\n",
    "import pandas as pd\n",
    "import numpy as np\n",
    "import os, sys\n",
    "import re\n",
    "\n",
    "import matplotlib.pyplot as plt\n",
    "import seaborn as sns\n",
    "\n",
    "from sklearn.cross_validation import train_test_split, KFold\n",
    "from sklearn.linear_model import Ridge\n",
    "from sklearn.preprocessing import LabelEncoder, MinMaxScaler, StandardScaler\n",
    "from sklearn.feature_selection import f_classif, SelectKBest\n",
    "from sklearn.svm import SVR\n",
    "from sklearn.pipeline import Pipeline\n",
    "from sklearn.decomposition import RandomizedPCA\n",
    "\n",
    "from collections import defaultdict\n",
    "\n",
    "from scipy.optimize import nnls\n",
    "\n",
    "sns.set_style('whitegrid')\n",
    "sns.set_context('poster')\n",
    "\n",
    "import warnings\n",
    "warnings.filterwarnings('ignore')\n",
    "\n",
    "basepath = os.path.expanduser('~/Desktop/src/African_Soil_Property_Prediction/')\n",
    "sys.path.append(os.path.join(basepath, 'src'))\n",
    "\n",
    "np.random.seed(0)\n",
    "\n",
    "from data import make_dataset\n",
    "from models import eval_metric"
   ]
  },
  {
   "cell_type": "code",
   "execution_count": 2,
   "metadata": {
    "collapsed": true
   },
   "outputs": [],
   "source": [
    "# load files\n",
    "train = pd.read_csv(os.path.join(basepath, 'data/raw/training.csv'))\n",
    "test = pd.read_csv(os.path.join(basepath, 'data/raw/sorted_test.csv'))\n",
    "sample_sub = pd.read_csv(os.path.join(basepath, 'data/raw/sample_submission.csv'))"
   ]
  },
  {
   "cell_type": "markdown",
   "metadata": {},
   "source": [
    "** Group feature by spectral band. **"
   ]
  },
  {
   "cell_type": "code",
   "execution_count": 3,
   "metadata": {
    "collapsed": false
   },
   "outputs": [],
   "source": [
    "spectral_band = re.compile(r'([a-z]+)([0-9]+)')\n",
    "\n",
    "def group_by_wavelength(column_names):\n",
    "    band_dict = defaultdict(list)\n",
    "    \n",
    "    for col in column_names:\n",
    "        match = spectral_band.match(col)\n",
    "\n",
    "        alpha, numeric = match.groups()\n",
    "        n = len(numeric)\n",
    "\n",
    "        band_dict[int(numeric[0]) * (10 ** (n - 1))].append(col)\n",
    "    \n",
    "    return band_dict\n",
    "\n",
    "band_dict = group_by_wavelength(train.columns[1:-21])"
   ]
  },
  {
   "cell_type": "code",
   "execution_count": 4,
   "metadata": {
    "collapsed": true
   },
   "outputs": [],
   "source": [
    "def create_df(df, band_dict):\n",
    "    new_df = {}\n",
    "    \n",
    "    for k, v in band_dict.items():\n",
    "        new_df[k] = df[v].mean(axis=1)\n",
    "    \n",
    "    return pd.DataFrame(new_df)\n",
    "\n",
    "train_ = create_df(train, band_dict)\n",
    "test_ = create_df(test, band_dict)"
   ]
  },
  {
   "cell_type": "code",
   "execution_count": 5,
   "metadata": {
    "collapsed": false
   },
   "outputs": [
    {
     "name": "stdout",
     "output_type": "stream",
     "text": [
      "==== Summary statistics for training examples\n"
     ]
    },
    {
     "data": {
      "text/html": [
       "<div>\n",
       "<table border=\"1\" class=\"dataframe\">\n",
       "  <thead>\n",
       "    <tr style=\"text-align: right;\">\n",
       "      <th></th>\n",
       "      <th>500</th>\n",
       "      <th>600</th>\n",
       "      <th>700</th>\n",
       "      <th>800</th>\n",
       "      <th>900</th>\n",
       "      <th>1000</th>\n",
       "      <th>2000</th>\n",
       "      <th>3000</th>\n",
       "      <th>4000</th>\n",
       "      <th>5000</th>\n",
       "      <th>6000</th>\n",
       "      <th>7000</th>\n",
       "    </tr>\n",
       "  </thead>\n",
       "  <tbody>\n",
       "    <tr>\n",
       "      <th>count</th>\n",
       "      <td>1157.000000</td>\n",
       "      <td>1157.000000</td>\n",
       "      <td>1157.000000</td>\n",
       "      <td>1157.000000</td>\n",
       "      <td>1157.000000</td>\n",
       "      <td>1157.000000</td>\n",
       "      <td>1157.000000</td>\n",
       "      <td>1157.000000</td>\n",
       "      <td>1157.000000</td>\n",
       "      <td>1157.000000</td>\n",
       "      <td>1157.000000</td>\n",
       "      <td>1157.000000</td>\n",
       "    </tr>\n",
       "    <tr>\n",
       "      <th>mean</th>\n",
       "      <td>1.566095</td>\n",
       "      <td>1.636803</td>\n",
       "      <td>1.564623</td>\n",
       "      <td>1.519612</td>\n",
       "      <td>1.416589</td>\n",
       "      <td>1.334178</td>\n",
       "      <td>0.701871</td>\n",
       "      <td>1.013991</td>\n",
       "      <td>0.330380</td>\n",
       "      <td>0.277733</td>\n",
       "      <td>0.260518</td>\n",
       "      <td>0.250557</td>\n",
       "    </tr>\n",
       "    <tr>\n",
       "      <th>std</th>\n",
       "      <td>0.171090</td>\n",
       "      <td>0.232786</td>\n",
       "      <td>0.264389</td>\n",
       "      <td>0.198303</td>\n",
       "      <td>0.222034</td>\n",
       "      <td>0.107357</td>\n",
       "      <td>0.152323</td>\n",
       "      <td>0.228178</td>\n",
       "      <td>0.115951</td>\n",
       "      <td>0.114500</td>\n",
       "      <td>0.113424</td>\n",
       "      <td>0.113685</td>\n",
       "    </tr>\n",
       "    <tr>\n",
       "      <th>min</th>\n",
       "      <td>1.023430</td>\n",
       "      <td>0.916383</td>\n",
       "      <td>0.897768</td>\n",
       "      <td>1.008594</td>\n",
       "      <td>0.768420</td>\n",
       "      <td>0.982845</td>\n",
       "      <td>0.317568</td>\n",
       "      <td>0.372794</td>\n",
       "      <td>0.044316</td>\n",
       "      <td>0.004844</td>\n",
       "      <td>-0.015332</td>\n",
       "      <td>-0.039193</td>\n",
       "    </tr>\n",
       "    <tr>\n",
       "      <th>25%</th>\n",
       "      <td>1.443850</td>\n",
       "      <td>1.485915</td>\n",
       "      <td>1.374557</td>\n",
       "      <td>1.367704</td>\n",
       "      <td>1.264880</td>\n",
       "      <td>1.266322</td>\n",
       "      <td>0.587672</td>\n",
       "      <td>0.844588</td>\n",
       "      <td>0.252499</td>\n",
       "      <td>0.199189</td>\n",
       "      <td>0.182272</td>\n",
       "      <td>0.174341</td>\n",
       "    </tr>\n",
       "    <tr>\n",
       "      <th>50%</th>\n",
       "      <td>1.565840</td>\n",
       "      <td>1.669190</td>\n",
       "      <td>1.584972</td>\n",
       "      <td>1.535751</td>\n",
       "      <td>1.435184</td>\n",
       "      <td>1.350239</td>\n",
       "      <td>0.712711</td>\n",
       "      <td>1.058943</td>\n",
       "      <td>0.341380</td>\n",
       "      <td>0.283231</td>\n",
       "      <td>0.266833</td>\n",
       "      <td>0.259560</td>\n",
       "    </tr>\n",
       "    <tr>\n",
       "      <th>75%</th>\n",
       "      <td>1.687500</td>\n",
       "      <td>1.802365</td>\n",
       "      <td>1.758571</td>\n",
       "      <td>1.658422</td>\n",
       "      <td>1.568500</td>\n",
       "      <td>1.407097</td>\n",
       "      <td>0.819660</td>\n",
       "      <td>1.198105</td>\n",
       "      <td>0.402424</td>\n",
       "      <td>0.344373</td>\n",
       "      <td>0.326784</td>\n",
       "      <td>0.320106</td>\n",
       "    </tr>\n",
       "    <tr>\n",
       "      <th>max</th>\n",
       "      <td>2.014480</td>\n",
       "      <td>2.214068</td>\n",
       "      <td>2.261778</td>\n",
       "      <td>2.083415</td>\n",
       "      <td>1.995202</td>\n",
       "      <td>1.576287</td>\n",
       "      <td>1.062781</td>\n",
       "      <td>1.448074</td>\n",
       "      <td>0.774800</td>\n",
       "      <td>0.776815</td>\n",
       "      <td>0.760040</td>\n",
       "      <td>0.735014</td>\n",
       "    </tr>\n",
       "  </tbody>\n",
       "</table>\n",
       "</div>"
      ],
      "text/plain": [
       "              500          600          700          800          900   \\\n",
       "count  1157.000000  1157.000000  1157.000000  1157.000000  1157.000000   \n",
       "mean      1.566095     1.636803     1.564623     1.519612     1.416589   \n",
       "std       0.171090     0.232786     0.264389     0.198303     0.222034   \n",
       "min       1.023430     0.916383     0.897768     1.008594     0.768420   \n",
       "25%       1.443850     1.485915     1.374557     1.367704     1.264880   \n",
       "50%       1.565840     1.669190     1.584972     1.535751     1.435184   \n",
       "75%       1.687500     1.802365     1.758571     1.658422     1.568500   \n",
       "max       2.014480     2.214068     2.261778     2.083415     1.995202   \n",
       "\n",
       "              1000         2000         3000         4000         5000  \\\n",
       "count  1157.000000  1157.000000  1157.000000  1157.000000  1157.000000   \n",
       "mean      1.334178     0.701871     1.013991     0.330380     0.277733   \n",
       "std       0.107357     0.152323     0.228178     0.115951     0.114500   \n",
       "min       0.982845     0.317568     0.372794     0.044316     0.004844   \n",
       "25%       1.266322     0.587672     0.844588     0.252499     0.199189   \n",
       "50%       1.350239     0.712711     1.058943     0.341380     0.283231   \n",
       "75%       1.407097     0.819660     1.198105     0.402424     0.344373   \n",
       "max       1.576287     1.062781     1.448074     0.774800     0.776815   \n",
       "\n",
       "              6000         7000  \n",
       "count  1157.000000  1157.000000  \n",
       "mean      0.260518     0.250557  \n",
       "std       0.113424     0.113685  \n",
       "min      -0.015332    -0.039193  \n",
       "25%       0.182272     0.174341  \n",
       "50%       0.266833     0.259560  \n",
       "75%       0.326784     0.320106  \n",
       "max       0.760040     0.735014  "
      ]
     },
     "execution_count": 5,
     "metadata": {},
     "output_type": "execute_result"
    }
   ],
   "source": [
    "print('==== Summary statistics for training examples')\n",
    "train_.describe()"
   ]
  },
  {
   "cell_type": "code",
   "execution_count": 6,
   "metadata": {
    "collapsed": false
   },
   "outputs": [
    {
     "name": "stdout",
     "output_type": "stream",
     "text": [
      "==== Summary statistics for test examples\n"
     ]
    },
    {
     "data": {
      "text/html": [
       "<div>\n",
       "<table border=\"1\" class=\"dataframe\">\n",
       "  <thead>\n",
       "    <tr style=\"text-align: right;\">\n",
       "      <th></th>\n",
       "      <th>500</th>\n",
       "      <th>600</th>\n",
       "      <th>700</th>\n",
       "      <th>800</th>\n",
       "      <th>900</th>\n",
       "      <th>1000</th>\n",
       "      <th>2000</th>\n",
       "      <th>3000</th>\n",
       "      <th>4000</th>\n",
       "      <th>5000</th>\n",
       "      <th>6000</th>\n",
       "      <th>7000</th>\n",
       "    </tr>\n",
       "  </thead>\n",
       "  <tbody>\n",
       "    <tr>\n",
       "      <th>count</th>\n",
       "      <td>727.000000</td>\n",
       "      <td>727.000000</td>\n",
       "      <td>727.000000</td>\n",
       "      <td>727.000000</td>\n",
       "      <td>727.000000</td>\n",
       "      <td>727.000000</td>\n",
       "      <td>727.000000</td>\n",
       "      <td>727.000000</td>\n",
       "      <td>727.000000</td>\n",
       "      <td>727.000000</td>\n",
       "      <td>727.000000</td>\n",
       "      <td>727.000000</td>\n",
       "    </tr>\n",
       "    <tr>\n",
       "      <th>mean</th>\n",
       "      <td>1.575379</td>\n",
       "      <td>1.667252</td>\n",
       "      <td>1.591736</td>\n",
       "      <td>1.537806</td>\n",
       "      <td>1.448867</td>\n",
       "      <td>1.329456</td>\n",
       "      <td>0.703868</td>\n",
       "      <td>1.036910</td>\n",
       "      <td>0.326016</td>\n",
       "      <td>0.269047</td>\n",
       "      <td>0.249911</td>\n",
       "      <td>0.240069</td>\n",
       "    </tr>\n",
       "    <tr>\n",
       "      <th>std</th>\n",
       "      <td>0.156563</td>\n",
       "      <td>0.191165</td>\n",
       "      <td>0.209014</td>\n",
       "      <td>0.164417</td>\n",
       "      <td>0.180780</td>\n",
       "      <td>0.093227</td>\n",
       "      <td>0.121393</td>\n",
       "      <td>0.187894</td>\n",
       "      <td>0.095378</td>\n",
       "      <td>0.101224</td>\n",
       "      <td>0.099919</td>\n",
       "      <td>0.097544</td>\n",
       "    </tr>\n",
       "    <tr>\n",
       "      <th>min</th>\n",
       "      <td>1.028730</td>\n",
       "      <td>1.209142</td>\n",
       "      <td>1.128883</td>\n",
       "      <td>1.030293</td>\n",
       "      <td>0.990573</td>\n",
       "      <td>0.998014</td>\n",
       "      <td>0.351262</td>\n",
       "      <td>0.465867</td>\n",
       "      <td>0.077545</td>\n",
       "      <td>0.005339</td>\n",
       "      <td>-0.014956</td>\n",
       "      <td>-0.025691</td>\n",
       "    </tr>\n",
       "    <tr>\n",
       "      <th>25%</th>\n",
       "      <td>1.477760</td>\n",
       "      <td>1.522999</td>\n",
       "      <td>1.424173</td>\n",
       "      <td>1.422708</td>\n",
       "      <td>1.309847</td>\n",
       "      <td>1.274846</td>\n",
       "      <td>0.617776</td>\n",
       "      <td>0.909537</td>\n",
       "      <td>0.253147</td>\n",
       "      <td>0.205325</td>\n",
       "      <td>0.187089</td>\n",
       "      <td>0.177324</td>\n",
       "    </tr>\n",
       "    <tr>\n",
       "      <th>50%</th>\n",
       "      <td>1.583240</td>\n",
       "      <td>1.692839</td>\n",
       "      <td>1.607334</td>\n",
       "      <td>1.548303</td>\n",
       "      <td>1.464973</td>\n",
       "      <td>1.337033</td>\n",
       "      <td>0.710981</td>\n",
       "      <td>1.062979</td>\n",
       "      <td>0.339193</td>\n",
       "      <td>0.282206</td>\n",
       "      <td>0.263772</td>\n",
       "      <td>0.256387</td>\n",
       "    </tr>\n",
       "    <tr>\n",
       "      <th>75%</th>\n",
       "      <td>1.693490</td>\n",
       "      <td>1.805904</td>\n",
       "      <td>1.745914</td>\n",
       "      <td>1.656638</td>\n",
       "      <td>1.576325</td>\n",
       "      <td>1.392217</td>\n",
       "      <td>0.793980</td>\n",
       "      <td>1.175343</td>\n",
       "      <td>0.392073</td>\n",
       "      <td>0.336428</td>\n",
       "      <td>0.314247</td>\n",
       "      <td>0.302366</td>\n",
       "    </tr>\n",
       "    <tr>\n",
       "      <th>max</th>\n",
       "      <td>1.915400</td>\n",
       "      <td>2.198115</td>\n",
       "      <td>2.260722</td>\n",
       "      <td>1.979957</td>\n",
       "      <td>1.981086</td>\n",
       "      <td>1.563511</td>\n",
       "      <td>1.011522</td>\n",
       "      <td>1.457121</td>\n",
       "      <td>0.575990</td>\n",
       "      <td>0.542214</td>\n",
       "      <td>0.529400</td>\n",
       "      <td>0.502016</td>\n",
       "    </tr>\n",
       "  </tbody>\n",
       "</table>\n",
       "</div>"
      ],
      "text/plain": [
       "             500         600         700         800         900         1000  \\\n",
       "count  727.000000  727.000000  727.000000  727.000000  727.000000  727.000000   \n",
       "mean     1.575379    1.667252    1.591736    1.537806    1.448867    1.329456   \n",
       "std      0.156563    0.191165    0.209014    0.164417    0.180780    0.093227   \n",
       "min      1.028730    1.209142    1.128883    1.030293    0.990573    0.998014   \n",
       "25%      1.477760    1.522999    1.424173    1.422708    1.309847    1.274846   \n",
       "50%      1.583240    1.692839    1.607334    1.548303    1.464973    1.337033   \n",
       "75%      1.693490    1.805904    1.745914    1.656638    1.576325    1.392217   \n",
       "max      1.915400    2.198115    2.260722    1.979957    1.981086    1.563511   \n",
       "\n",
       "             2000        3000        4000        5000        6000        7000  \n",
       "count  727.000000  727.000000  727.000000  727.000000  727.000000  727.000000  \n",
       "mean     0.703868    1.036910    0.326016    0.269047    0.249911    0.240069  \n",
       "std      0.121393    0.187894    0.095378    0.101224    0.099919    0.097544  \n",
       "min      0.351262    0.465867    0.077545    0.005339   -0.014956   -0.025691  \n",
       "25%      0.617776    0.909537    0.253147    0.205325    0.187089    0.177324  \n",
       "50%      0.710981    1.062979    0.339193    0.282206    0.263772    0.256387  \n",
       "75%      0.793980    1.175343    0.392073    0.336428    0.314247    0.302366  \n",
       "max      1.011522    1.457121    0.575990    0.542214    0.529400    0.502016  "
      ]
     },
     "execution_count": 6,
     "metadata": {},
     "output_type": "execute_result"
    }
   ],
   "source": [
    "print('==== Summary statistics for test examples')\n",
    "test_.describe()"
   ]
  },
  {
   "cell_type": "markdown",
   "metadata": {},
   "source": [
    "** Prepare dataset. **"
   ]
  },
  {
   "cell_type": "code",
   "execution_count": 50,
   "metadata": {
    "collapsed": true
   },
   "outputs": [],
   "source": [
    "X = train_.copy()\n",
    "Xtest = test_.copy()\n",
    "\n",
    "y_Ca = train.Ca\n",
    "y_SOC = train.SOC\n",
    "y_Sand = train.Sand\n",
    "y_pH = train.pH\n",
    "y_P = train.P"
   ]
  },
  {
   "cell_type": "markdown",
   "metadata": {},
   "source": [
    "** Split dataset. **"
   ]
  },
  {
   "cell_type": "code",
   "execution_count": 51,
   "metadata": {
    "collapsed": true
   },
   "outputs": [],
   "source": [
    "def split_dataset(train_length, **params):\n",
    "    itrain, itest = train_test_split(range(train_length), **params)\n",
    "    \n",
    "    return itrain, itest"
   ]
  },
  {
   "cell_type": "code",
   "execution_count": 52,
   "metadata": {
    "collapsed": true
   },
   "outputs": [],
   "source": [
    "params = {\n",
    "    'test_size': 0.2,\n",
    "    'random_state': 3\n",
    "}\n",
    "\n",
    "itrain, itest = split_dataset(len(X), **params)\n",
    "\n",
    "X_train = X.iloc[itrain]\n",
    "X_test = X.iloc[itest]\n",
    "\n",
    "y_train_Ca = y_Ca.iloc[itrain]\n",
    "y_test_Ca = y_Ca.iloc[itest]\n",
    "\n",
    "y_train_P = y_P.iloc[itrain]\n",
    "y_test_P = y_P.iloc[itest]\n",
    "\n",
    "y_train_Sand = y_Sand.iloc[itrain]\n",
    "y_test_Sand = y_Sand.iloc[itest]\n",
    "\n",
    "y_train_SOC = y_SOC.iloc[itrain]\n",
    "y_test_SOC = y_SOC.iloc[itest]\n",
    "\n",
    "y_train_pH = y_pH.iloc[itrain]\n",
    "y_test_pH = y_pH.iloc[itest]"
   ]
  },
  {
   "cell_type": "code",
   "execution_count": 83,
   "metadata": {
    "collapsed": true
   },
   "outputs": [],
   "source": [
    "pipeline1 = Pipeline([\n",
    "        ('scale', StandardScaler()),\n",
    "        ('model', SVR(C=10., gamma=.1))\n",
    "    ])\n",
    "\n",
    "pipeline2 = Pipeline([\n",
    "        ('scale', StandardScaler()),\n",
    "        ('model', SVR(C=10., gamma=.1))\n",
    "    ])\n",
    "\n",
    "pipeline3 = Pipeline([\n",
    "        ('scale', StandardScaler()),\n",
    "        ('model', SVR(C=10., gamma=.1))\n",
    "    ])\n",
    "\n",
    "pipeline4 = Pipeline([\n",
    "        ('scale', StandardScaler()),\n",
    "        ('model', SVR(C=10., gamma=.1))\n",
    "    ])\n",
    "\n",
    "pipeline5 = Pipeline([\n",
    "        ('scale', StandardScaler()),\n",
    "        ('model', SVR(C=10., gamma=.1))\n",
    "    ])"
   ]
  },
  {
   "cell_type": "markdown",
   "metadata": {},
   "source": [
    "** Set up cross validation scheme. **"
   ]
  },
  {
   "cell_type": "code",
   "execution_count": 95,
   "metadata": {
    "collapsed": true
   },
   "outputs": [],
   "source": [
    "def cv_scheme(pipelines, X, y_Ca, y_P, y_Sand, y_SOC, y_pH):\n",
    "    cv = KFold(len(X), n_folds=5, shuffle=True, random_state=10)\n",
    "    \n",
    "    scores = 0\n",
    "    for itrain, itest in cv:\n",
    "        Xtr = X.iloc[itrain]\n",
    "        \n",
    "        ytr_Ca = y_Ca.iloc[itrain]\n",
    "        ytr_P = y_P.iloc[itrain]\n",
    "        ytr_Sand = y_Sand.iloc[itrain]\n",
    "        ytr_SOC = y_SOC.iloc[itrain]\n",
    "        ytr_pH = y_pH.iloc[itrain]\n",
    "        \n",
    "        Xte = X.iloc[itest]\n",
    "        \n",
    "        yte_Ca = y_Ca.iloc[itest]\n",
    "        yte_P = y_P.iloc[itest]\n",
    "        yte_Sand = y_Sand.iloc[itest]\n",
    "        yte_SOC = y_SOC.iloc[itest]\n",
    "        yte_pH = y_pH.iloc[itest]\n",
    "    \n",
    "        pipelines[0].fit(Xtr, ytr_Ca)\n",
    "        pipelines[1].fit(Xtr, ytr_P)\n",
    "        pipelines[2].fit(Xtr, ytr_Sand)\n",
    "        pipelines[3].fit(Xtr, ytr_SOC)\n",
    "        pipelines[4].fit(Xtr, ytr_pH)\n",
    "        \n",
    "        ypred_Ca = pipelines[0].predict(Xte)\n",
    "        ypred_P = pipelines[1].predict(Xte)\n",
    "        ypred_Sand = pipelines[2].predict(Xte)\n",
    "        ypred_SOC = pipelines[3].predict(Xte)\n",
    "        ypred_pH = pipelines[4].predict(Xte)\n",
    "\n",
    "        scores += eval_metric.mcrmse([yte_Ca, yte_P, yte_pH, yte_Sand, yte_SOC], [ypred_Ca, ypred_P, ypred_pH, ypred_Sand, ypred_SOC])\n",
    "    \n",
    "    return scores / len(cv)"
   ]
  },
  {
   "cell_type": "code",
   "execution_count": 96,
   "metadata": {
    "collapsed": false
   },
   "outputs": [],
   "source": [
    "scores = cv_scheme([\n",
    "        pipeline1,\n",
    "        pipeline2,\n",
    "        pipeline3,\n",
    "        pipeline4,\n",
    "        pipeline5\n",
    "    ], X_train, y_train_Ca, y_train_P, y_train_Sand, y_train_SOC, y_train_pH)"
   ]
  },
  {
   "cell_type": "code",
   "execution_count": 97,
   "metadata": {
    "collapsed": false
   },
   "outputs": [
    {
     "name": "stdout",
     "output_type": "stream",
     "text": [
      "Score after 5-fold cross-validation: 0.626360\n"
     ]
    }
   ],
   "source": [
    "print('Score after 5-fold cross-validation: %f'%scores)"
   ]
  },
  {
   "cell_type": "code",
   "execution_count": 84,
   "metadata": {
    "collapsed": false
   },
   "outputs": [
    {
     "data": {
      "text/plain": [
       "Pipeline(steps=[('scale', StandardScaler(copy=True, with_mean=True, with_std=True)), ('model', SVR(C=10.0, cache_size=200, coef0=0.0, degree=3, epsilon=0.1, gamma=0.1,\n",
       "  kernel='rbf', max_iter=-1, shrinking=True, tol=0.001, verbose=False))])"
      ]
     },
     "execution_count": 84,
     "metadata": {},
     "output_type": "execute_result"
    }
   ],
   "source": [
    "pipeline1.fit(X_train, y_train_Ca)\n",
    "pipeline2.fit(X_train, y_train_P)\n",
    "pipeline3.fit(X_train, y_train_Sand)\n",
    "pipeline4.fit(X_train, y_train_SOC)\n",
    "pipeline5.fit(X_train, y_train_pH)"
   ]
  },
  {
   "cell_type": "code",
   "execution_count": 85,
   "metadata": {
    "collapsed": false
   },
   "outputs": [],
   "source": [
    "y_pred_Ca = (pipeline1.predict(X_test))\n",
    "y_pred_P = (pipeline2.predict(X_test))\n",
    "y_pred_Sand = (pipeline3.predict(X_test))\n",
    "y_pred_SOC = (pipeline4.predict(X_test))\n",
    "y_pred_pH = (pipeline5.predict(X_test))"
   ]
  },
  {
   "cell_type": "markdown",
   "metadata": {},
   "source": [
    "** Private Leaderboard Score: 0.71622 **"
   ]
  },
  {
   "cell_type": "code",
   "execution_count": 86,
   "metadata": {
    "collapsed": false
   },
   "outputs": [
    {
     "name": "stdout",
     "output_type": "stream",
     "text": [
      "MCRMSE on unseen examples: 0.617533\n"
     ]
    }
   ],
   "source": [
    "print('MCRMSE on unseen examples: %f'%eval_metric.mcrmse([y_test_Ca, y_test_P, y_test_pH, y_test_Sand, y_test_SOC], [y_pred_Ca, y_pred_P, y_pred_pH, y_pred_Sand, y_pred_SOC]))"
   ]
  },
  {
   "cell_type": "markdown",
   "metadata": {},
   "source": [
    "** Training. **"
   ]
  },
  {
   "cell_type": "code",
   "execution_count": 87,
   "metadata": {
    "collapsed": false
   },
   "outputs": [
    {
     "data": {
      "text/plain": [
       "Pipeline(steps=[('scale', StandardScaler(copy=True, with_mean=True, with_std=True)), ('model', SVR(C=10.0, cache_size=200, coef0=0.0, degree=3, epsilon=0.1, gamma=0.1,\n",
       "  kernel='rbf', max_iter=-1, shrinking=True, tol=0.001, verbose=False))])"
      ]
     },
     "execution_count": 87,
     "metadata": {},
     "output_type": "execute_result"
    }
   ],
   "source": [
    "pipeline1.fit(X, y_Ca)\n",
    "pipeline2.fit(X, y_P)\n",
    "pipeline3.fit(X, y_Sand)\n",
    "pipeline4.fit(X, y_SOC)\n",
    "pipeline5.fit(X, y_pH)"
   ]
  },
  {
   "cell_type": "code",
   "execution_count": 88,
   "metadata": {
    "collapsed": true
   },
   "outputs": [],
   "source": [
    "predict_Ca = pipeline1.predict(Xtest) \n",
    "predict_P = pipeline2.predict(Xtest)\n",
    "predict_Sand = pipeline3.predict(Xtest)\n",
    "predict_SOC = pipeline4.predict(Xtest)\n",
    "predict_pH = pipeline5.predict(Xtest)"
   ]
  },
  {
   "cell_type": "markdown",
   "metadata": {},
   "source": [
    "** Submission. **"
   ]
  },
  {
   "cell_type": "code",
   "execution_count": 89,
   "metadata": {
    "collapsed": true
   },
   "outputs": [],
   "source": [
    "sample_sub['Ca'] = predict_Ca\n",
    "sample_sub['P'] = predict_P\n",
    "sample_sub['pH'] = predict_pH\n",
    "sample_sub['SOC'] = predict_SOC\n",
    "sample_sub['Sand'] = predict_Sand"
   ]
  },
  {
   "cell_type": "code",
   "execution_count": 90,
   "metadata": {
    "collapsed": true
   },
   "outputs": [],
   "source": [
    "sample_sub.to_csv(os.path.join(basepath, 'submissions/group_by_band.csv'), index=False)"
   ]
  },
  {
   "cell_type": "code",
   "execution_count": null,
   "metadata": {
    "collapsed": true
   },
   "outputs": [],
   "source": []
  }
 ],
 "metadata": {
  "kernelspec": {
   "display_name": "Python [Root]",
   "language": "python",
   "name": "Python [Root]"
  },
  "language_info": {
   "codemirror_mode": {
    "name": "ipython",
    "version": 3
   },
   "file_extension": ".py",
   "mimetype": "text/x-python",
   "name": "python",
   "nbconvert_exporter": "python",
   "pygments_lexer": "ipython3",
   "version": "3.5.2"
  }
 },
 "nbformat": 4,
 "nbformat_minor": 0
}
