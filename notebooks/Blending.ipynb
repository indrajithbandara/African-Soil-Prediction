{
 "cells": [
  {
   "cell_type": "markdown",
   "metadata": {},
   "source": [
    "** Objectives **\n",
    "\n",
    "* Find balanced predictions across different datasets.\n",
    "* Blend different models trained across different taraget variables."
   ]
  },
  {
   "cell_type": "code",
   "execution_count": 1,
   "metadata": {
    "collapsed": true
   },
   "outputs": [],
   "source": [
    "import numpy as np\n",
    "import pandas as pd\n",
    "import os, sys\n",
    "\n",
    "basepath = os.path.expanduser('~/Desktop/src/African_Soil_Property_Prediction/')\n",
    "sys.path.append(os.path.join(basepath, 'src'))\n",
    "\n",
    "from sklearn.externals import joblib\n",
    "\n",
    "np.random.seed(5)\n",
    "\n",
    "from helper import utils\n",
    "from models import eval_metric, cross_validation, find_weights"
   ]
  },
  {
   "cell_type": "code",
   "execution_count": 2,
   "metadata": {
    "collapsed": false
   },
   "outputs": [],
   "source": [
    "train       = pd.read_csv(os.path.join(basepath, 'data/raw/training.csv'))\n",
    "test        = pd.read_csv(os.path.join(basepath, 'data/raw/sorted_test.csv'))\n",
    "sample_sub  = pd.read_csv(os.path.join(basepath, 'data/raw/sample_submission.csv'))"
   ]
  },
  {
   "cell_type": "code",
   "execution_count": 3,
   "metadata": {
    "collapsed": false
   },
   "outputs": [],
   "source": [
    "y_Ca, y_P, y_Sand, y_SOC, y_pH = utils.define_target_variables(train)\n",
    "\n",
    "params = {\n",
    "    'test_size' : 0.2,\n",
    "    'random_state' : 4\n",
    "}\n",
    "\n",
    "itrain, itest = cross_validation.split_dataset(len(train), **params)"
   ]
  },
  {
   "cell_type": "code",
   "execution_count": 3,
   "metadata": {
    "collapsed": true
   },
   "outputs": [],
   "source": [
    "labels  = ['Ca', 'P', 'Sand', 'SOC', 'pH']"
   ]
  },
  {
   "cell_type": "code",
   "execution_count": 4,
   "metadata": {
    "collapsed": false
   },
   "outputs": [],
   "source": [
    "# load all the different datasets\n",
    "\n",
    "trains_1, tests_1 = utils.load_datasets('dataset_1', labels)\n",
    "trains_2, tests_2 = utils.load_datasets('dataset_2', labels)\n",
    "trains_3, tests_3 = utils.load_datasets('dataset_3', labels)\n",
    "trains_4, tests_4 = utils.load_datasets('dataset_4', labels)\n",
    "trains_5, tests_5 = utils.load_datasets('dataset_5', labels)"
   ]
  },
  {
   "cell_type": "code",
   "execution_count": 6,
   "metadata": {
    "collapsed": true
   },
   "outputs": [],
   "source": [
    "y_trains, y_tests  = utils.get_Ys(y_Ca, y_P, y_Sand, y_SOC, y_pH, itrain, itest)\n",
    "\n",
    "y_train_Ca, y_train_P, y_train_Sand, y_train_SOC, y_train_pH = y_trains\n",
    "y_test_Ca, y_test_P, y_test_Sand, y_test_SOC, y_test_pH = y_tests\n",
    "\n",
    "\n",
    "###############################\n",
    "\n",
    "X_train_1_Ca, X_test_1_Ca        = utils.get_Xs(trains_1[0], itrain, itest) \n",
    "X_train_1_P, X_test_1_P          = utils.get_Xs(trains_1[1], itrain, itest) \n",
    "X_train_1_Sand, X_test_1_Sand    = utils.get_Xs(trains_1[2], itrain, itest) \n",
    "X_train_1_SOC, X_test_1_SOC      = utils.get_Xs(trains_1[3], itrain, itest) \n",
    "X_train_1_pH, X_test_1_pH        = utils.get_Xs(trains_1[4], itrain, itest)\n",
    "\n",
    "X_trains_1 = [X_train_1_Ca, X_train_1_P, X_train_1_Sand, X_train_1_SOC, X_train_1_pH]\n",
    "X_tests_1 = [X_test_1_Ca, X_test_1_P, X_test_1_Sand, X_test_1_SOC, X_test_1_pH]\n",
    "\n",
    "###############################\n",
    "\n",
    "X_train_2_Ca, X_test_2_Ca        = utils.get_Xs(trains_2[0], itrain, itest) \n",
    "X_train_2_P, X_test_2_P          = utils.get_Xs(trains_2[1], itrain, itest) \n",
    "X_train_2_Sand, X_test_2_Sand    = utils.get_Xs(trains_2[2], itrain, itest) \n",
    "X_train_2_SOC, X_test_2_SOC      = utils.get_Xs(trains_2[3], itrain, itest) \n",
    "X_train_2_pH, X_test_2_pH        = utils.get_Xs(trains_2[4], itrain, itest)\n",
    "\n",
    "X_trains_2 = [X_train_2_Ca, X_train_2_P, X_train_2_Sand, X_train_2_SOC, X_train_2_pH]\n",
    "X_tests_2 = [X_test_2_Ca, X_test_2_P, X_test_2_Sand, X_test_2_SOC, X_test_2_pH]\n",
    "\n",
    "###############################\n",
    "\n",
    "X_train_3_Ca, X_test_3_Ca        = utils.get_Xs(trains_3[0], itrain, itest) \n",
    "X_train_3_P, X_test_3_P          = utils.get_Xs(trains_3[1], itrain, itest) \n",
    "X_train_3_Sand, X_test_3_Sand    = utils.get_Xs(trains_3[2], itrain, itest) \n",
    "X_train_3_SOC, X_test_3_SOC      = utils.get_Xs(trains_3[3], itrain, itest) \n",
    "X_train_3_pH, X_test_3_pH        = utils.get_Xs(trains_3[4], itrain, itest)\n",
    "\n",
    "X_trains_3 = [X_train_3_Ca, X_train_3_P, X_train_3_Sand, X_train_3_SOC, X_train_3_pH]\n",
    "X_tests_3 = [X_test_3_Ca, X_test_3_P, X_test_3_Sand, X_test_3_SOC, X_test_3_pH]\n",
    "\n",
    "# ###############################\n",
    "\n",
    "X_train_4_Ca, X_test_4_Ca        = utils.get_Xs(trains_4[0], itrain, itest) \n",
    "X_train_4_P, X_test_4_P          = utils.get_Xs(trains_4[1], itrain, itest) \n",
    "X_train_4_Sand, X_test_4_Sand    = utils.get_Xs(trains_4[2], itrain, itest) \n",
    "X_train_4_SOC, X_test_4_SOC      = utils.get_Xs(trains_4[3], itrain, itest) \n",
    "X_train_4_pH, X_test_4_pH        = utils.get_Xs(trains_4[4], itrain, itest)\n",
    "\n",
    "X_trains_4 = [X_train_4_Ca, X_train_4_P, X_train_4_Sand, X_train_4_SOC, X_train_4_pH]\n",
    "X_tests_4 = [X_test_4_Ca, X_test_4_P, X_test_4_Sand, X_test_4_SOC, X_test_4_pH]\n",
    "\n",
    "# ###############################\n",
    "\n",
    "X_train_5_Ca, X_test_5_Ca        = utils.get_Xs(trains_5[0], itrain, itest) \n",
    "X_train_5_P, X_test_5_P          = utils.get_Xs(trains_5[1], itrain, itest) \n",
    "X_train_5_Sand, X_test_5_Sand    = utils.get_Xs(trains_5[2], itrain, itest) \n",
    "X_train_5_SOC, X_test_5_SOC      = utils.get_Xs(trains_5[3], itrain, itest) \n",
    "X_train_5_pH, X_test_5_pH        = utils.get_Xs(trains_5[4], itrain, itest)\n",
    "\n",
    "X_trains_5 = [X_train_5_Ca, X_train_5_P, X_train_5_Sand, X_train_5_SOC, X_train_5_pH]\n",
    "X_tests_5 = [X_test_5_Ca, X_test_5_P, X_test_5_Sand, X_test_5_SOC, X_test_5_pH]\n"
   ]
  },
  {
   "cell_type": "code",
   "execution_count": 5,
   "metadata": {
    "collapsed": false
   },
   "outputs": [],
   "source": [
    "# load all of the different models trained\n",
    "\n",
    "model_names = ['rbf', 'linear', 'poly']\n",
    "\n",
    "test_preds_dataset_1 = np.empty((len(labels), len(model_names)), dtype=np.ndarray)\n",
    "\n",
    "for i in range(len(labels)):\n",
    "    for j in range(len(model_names)):\n",
    "        model = joblib.load(os.path.join(basepath, 'data/processed/%s/%s/models/%s/%s'%('dataset_1', labels[i], model_names[j], model_names[j])))\n",
    "        test_preds_dataset_1[i, j] = utils.predict_targets(model, tests_1[i])"
   ]
  },
  {
   "cell_type": "code",
   "execution_count": 6,
   "metadata": {
    "collapsed": true
   },
   "outputs": [],
   "source": [
    "model_names = ['rbf', 'linear', 'poly']\n",
    "\n",
    "test_preds_dataset_2 = np.empty((len(labels), len(model_names)), dtype=np.ndarray)\n",
    "\n",
    "for i in range(len(labels)):\n",
    "    for j in range(len(model_names)):\n",
    "        model = joblib.load(os.path.join(basepath, 'data/processed/%s/%s/models/%s/%s'%('dataset_2', labels[i], model_names[j], model_names[j])))\n",
    "        test_preds_dataset_2[i, j] = utils.predict_targets(model, tests_2[i])"
   ]
  },
  {
   "cell_type": "code",
   "execution_count": 7,
   "metadata": {
    "collapsed": true
   },
   "outputs": [],
   "source": [
    "# load all of the different models trained\n",
    "\n",
    "model_names = ['rbf', 'linear', 'poly']\n",
    "\n",
    "test_preds_dataset_3 = np.empty((len(labels), len(model_names)), dtype=np.ndarray)\n",
    "\n",
    "for i in range(len(labels)):\n",
    "    for j in range(len(model_names)):\n",
    "        model = joblib.load(os.path.join(basepath, 'data/processed/%s/%s/models/%s/%s'%('dataset_3', labels[i], model_names[j], model_names[j])))\n",
    "        test_preds_dataset_3[i, j] = utils.predict_targets(model, tests_3[i])"
   ]
  },
  {
   "cell_type": "code",
   "execution_count": 8,
   "metadata": {
    "collapsed": true
   },
   "outputs": [],
   "source": [
    "# load all of the different models trained\n",
    "\n",
    "model_names = ['rbf', 'linear', 'poly']\n",
    "\n",
    "test_preds_dataset_4 = np.empty((len(labels), len(model_names)), dtype=np.ndarray)\n",
    "\n",
    "for i in range(len(labels)):\n",
    "    for j in range(len(model_names)):\n",
    "        model = joblib.load(os.path.join(basepath, 'data/processed/%s/%s/models/%s/%s'%('dataset_4', labels[i], model_names[j], model_names[j])))\n",
    "        test_preds_dataset_4[i, j] = utils.predict_targets(model, tests_4[i])"
   ]
  },
  {
   "cell_type": "code",
   "execution_count": 9,
   "metadata": {
    "collapsed": false
   },
   "outputs": [],
   "source": [
    "# load all of the different models trained\n",
    "\n",
    "model_names = ['rbf', 'linear', 'poly']\n",
    "\n",
    "test_preds_dataset_5 = np.empty((len(labels), len(model_names)), dtype=np.ndarray)\n",
    "\n",
    "for i in range(len(labels)):\n",
    "    for j in range(len(model_names)):\n",
    "        model = joblib.load(os.path.join(basepath, 'data/processed/%s/%s/models/%s/%s'%('dataset_5', labels[i], model_names[j], model_names[j])))\n",
    "        test_preds_dataset_5[i, j] = utils.predict_targets(model, tests_5[i])"
   ]
  },
  {
   "cell_type": "code",
   "execution_count": 10,
   "metadata": {
    "collapsed": false
   },
   "outputs": [],
   "source": [
    "# should have shape of (n_diff_models, len(test))\n",
    "\n",
    "predictions_Ca    = [\n",
    "                    test_preds_dataset_1[0][0],\n",
    "                    test_preds_dataset_1[0][1],\n",
    "                    test_preds_dataset_1[0][2],\n",
    "                    test_preds_dataset_2[0][0],\n",
    "                    test_preds_dataset_2[0][1],\n",
    "                    test_preds_dataset_2[0][2],\n",
    "                    test_preds_dataset_3[0][0],\n",
    "                    test_preds_dataset_3[0][1],\n",
    "                    test_preds_dataset_3[0][2],\n",
    "                    test_preds_dataset_4[0][0],\n",
    "                    test_preds_dataset_4[0][1],\n",
    "                    test_preds_dataset_4[0][2],\n",
    "                    test_preds_dataset_5[0][0],\n",
    "                    test_preds_dataset_5[0][1],\n",
    "                    test_preds_dataset_5[0][2]\n",
    "                    ]\n",
    "\n",
    "predictions_P     = [\n",
    "                    test_preds_dataset_1[1][0],\n",
    "                    test_preds_dataset_1[1][1],\n",
    "                    test_preds_dataset_1[1][2],\n",
    "                    test_preds_dataset_2[1][0],\n",
    "                    test_preds_dataset_2[1][1],\n",
    "                    test_preds_dataset_2[1][2],\n",
    "                    test_preds_dataset_3[1][0],\n",
    "                    test_preds_dataset_3[1][1],\n",
    "                    test_preds_dataset_3[1][2],\n",
    "                    test_preds_dataset_4[1][0],\n",
    "                    test_preds_dataset_4[1][1],\n",
    "                    test_preds_dataset_4[1][2],\n",
    "                    test_preds_dataset_5[1][0],\n",
    "                    test_preds_dataset_5[1][1],\n",
    "                    test_preds_dataset_5[1][2],\n",
    "\n",
    "                    ]\n",
    "\n",
    "predictions_Sand     = [\n",
    "                    test_preds_dataset_1[2][0],\n",
    "                    test_preds_dataset_1[2][1],\n",
    "                    test_preds_dataset_1[2][2],\n",
    "                    test_preds_dataset_2[2][0],\n",
    "                    test_preds_dataset_2[2][1],\n",
    "                    test_preds_dataset_2[2][2],\n",
    "                    test_preds_dataset_3[2][0],\n",
    "                    test_preds_dataset_3[2][1],\n",
    "                    test_preds_dataset_3[2][2],\n",
    "                    test_preds_dataset_4[2][0],\n",
    "                    test_preds_dataset_4[2][1],\n",
    "                    test_preds_dataset_4[2][2],\n",
    "                    test_preds_dataset_5[2][0],\n",
    "                    test_preds_dataset_5[2][1],\n",
    "                    test_preds_dataset_5[2][2]\n",
    "                    ]\n",
    "\n",
    "predictions_SOC     = [\n",
    "                    test_preds_dataset_1[3][0],\n",
    "                    test_preds_dataset_1[3][1],\n",
    "                    test_preds_dataset_1[3][2],\n",
    "                    test_preds_dataset_2[3][0],\n",
    "                    test_preds_dataset_2[3][1],\n",
    "                    test_preds_dataset_2[3][2],\n",
    "                    test_preds_dataset_3[3][0],\n",
    "                    test_preds_dataset_3[3][1],\n",
    "                    test_preds_dataset_3[3][2],\n",
    "                    test_preds_dataset_4[3][0],\n",
    "                    test_preds_dataset_4[3][1],\n",
    "                    test_preds_dataset_4[3][2],\n",
    "                    test_preds_dataset_5[3][0],\n",
    "                    test_preds_dataset_5[3][1],\n",
    "                    test_preds_dataset_5[3][2]\n",
    "                    ]\n",
    "\n",
    "predictions_pH     = [\n",
    "                    test_preds_dataset_1[4][0],\n",
    "                    test_preds_dataset_1[4][1],\n",
    "                    test_preds_dataset_1[4][2],\n",
    "                    test_preds_dataset_2[4][0],\n",
    "                    test_preds_dataset_2[4][1],\n",
    "                    test_preds_dataset_2[4][2],\n",
    "                    test_preds_dataset_3[4][0],\n",
    "                    test_preds_dataset_3[4][1],\n",
    "                    test_preds_dataset_3[4][2],\n",
    "                    test_preds_dataset_4[4][0],\n",
    "                    test_preds_dataset_4[4][1],\n",
    "                    test_preds_dataset_4[4][2],\n",
    "                    test_preds_dataset_5[4][0],\n",
    "                    test_preds_dataset_5[4][1],\n",
    "                    test_preds_dataset_5[4][2]\n",
    "                    ]\n",
    "\n",
    "predictions_all_targets = [predictions_Ca, predictions_P, predictions_Sand, predictions_SOC, predictions_pH]"
   ]
  },
  {
   "cell_type": "code",
   "execution_count": 13,
   "metadata": {
    "collapsed": false
   },
   "outputs": [
    {
     "name": "stdout",
     "output_type": "stream",
     "text": [
      "MCRMSE for index:1 is: 0.492119\n",
      "MCRMSE for index:2 is: 0.710202\n",
      "MCRMSE for index:3 is: 0.362098\n",
      "MCRMSE for index:4 is: 0.437219\n",
      "MCRMSE for index:5 is: 0.422529\n",
      "\n",
      "=================================\n",
      "MCRMSE for all of the targets:  0.484833185494\n"
     ]
    }
   ],
   "source": [
    "balanced_preds = []\n",
    "weights = []\n",
    "\n",
    "for i in range(5):\n",
    "    weight, balanced_pred = find_weights.find(y_tests[i], predictions_all_targets[i])\n",
    "    \n",
    "    weights.append(weight)\n",
    "    print('MCRMSE for index:%d is: %f'%(i+1, eval_metric.mcrmse([y_tests[i]], [balanced_pred])))\n",
    "    balanced_preds.append(balanced_pred)\n",
    "\n",
    "# print(len(balanced_preds[0]))\n",
    "print('\\n=================================')\n",
    "print('MCRMSE for all of the targets: ', eval_metric.mcrmse(y_tests, balanced_preds))"
   ]
  },
  {
   "cell_type": "code",
   "execution_count": 14,
   "metadata": {
    "collapsed": false
   },
   "outputs": [
    {
     "data": {
      "text/plain": [
       "['/home/abhishek/Desktop/src/African_Soil_Property_Prediction/data/interim/weights/weights',\n",
       " '/home/abhishek/Desktop/src/African_Soil_Property_Prediction/data/interim/weights/weights_01.npy',\n",
       " '/home/abhishek/Desktop/src/African_Soil_Property_Prediction/data/interim/weights/weights_02.npy',\n",
       " '/home/abhishek/Desktop/src/African_Soil_Property_Prediction/data/interim/weights/weights_03.npy',\n",
       " '/home/abhishek/Desktop/src/African_Soil_Property_Prediction/data/interim/weights/weights_04.npy',\n",
       " '/home/abhishek/Desktop/src/African_Soil_Property_Prediction/data/interim/weights/weights_05.npy']"
      ]
     },
     "execution_count": 14,
     "metadata": {},
     "output_type": "execute_result"
    }
   ],
   "source": [
    "joblib.dump(weights, os.path.join(basepath, 'data/interim/weights/weights'))"
   ]
  },
  {
   "cell_type": "code",
   "execution_count": 11,
   "metadata": {
    "collapsed": true
   },
   "outputs": [],
   "source": [
    "weights = joblib.load(os.path.join(basepath, 'data/interim/weights/weights'))"
   ]
  },
  {
   "cell_type": "code",
   "execution_count": 12,
   "metadata": {
    "collapsed": false
   },
   "outputs": [],
   "source": [
    "predictions_Ca_stacked = find_weights.stack_predictions(predictions_Ca)\n",
    "predictions_P_stacked = find_weights.stack_predictions(predictions_P)\n",
    "predictions_Sand_stacked = find_weights.stack_predictions(predictions_Sand)\n",
    "predictions_SOC_stacked = find_weights.stack_predictions(predictions_SOC)\n",
    "predictions_pH_stacked = find_weights.stack_predictions(predictions_pH)"
   ]
  },
  {
   "cell_type": "code",
   "execution_count": 13,
   "metadata": {
    "collapsed": false
   },
   "outputs": [],
   "source": [
    "final_preds_Ca   = find_weights.balance_predictions(tests_1[0], predictions_Ca_stacked, weights[0])\n",
    "final_preds_P    = find_weights.balance_predictions(tests_1[0], predictions_P_stacked, weights[1])\n",
    "final_preds_Sand = find_weights.balance_predictions(tests_1[0], predictions_Sand_stacked, weights[2])\n",
    "final_preds_SOC  = find_weights.balance_predictions(tests_1[0], predictions_SOC_stacked, weights[3])\n",
    "final_preds_pH   = find_weights.balance_predictions(tests_1[0], predictions_pH_stacked, weights[4])"
   ]
  },
  {
   "cell_type": "code",
   "execution_count": 14,
   "metadata": {
    "collapsed": true
   },
   "outputs": [],
   "source": [
    "sample_sub['Ca']   = final_preds_Ca\n",
    "sample_sub['P']    = final_preds_P\n",
    "sample_sub['Sand'] = final_preds_Sand\n",
    "sample_sub['SOC']  = final_preds_SOC\n",
    "sample_sub['pH']   = final_preds_pH"
   ]
  },
  {
   "cell_type": "code",
   "execution_count": 15,
   "metadata": {
    "collapsed": true
   },
   "outputs": [],
   "source": [
    "sample_sub.to_csv(os.path.join(basepath, 'submissions/5_datasets_only_SVR_regularized'), index=False)"
   ]
  },
  {
   "cell_type": "code",
   "execution_count": null,
   "metadata": {
    "collapsed": true
   },
   "outputs": [],
   "source": []
  }
 ],
 "metadata": {
  "anaconda-cloud": {},
  "kernelspec": {
   "display_name": "Python [Root]",
   "language": "python",
   "name": "Python [Root]"
  },
  "language_info": {
   "codemirror_mode": {
    "name": "ipython",
    "version": 3
   },
   "file_extension": ".py",
   "mimetype": "text/x-python",
   "name": "python",
   "nbconvert_exporter": "python",
   "pygments_lexer": "ipython3",
   "version": "3.5.2"
  }
 },
 "nbformat": 4,
 "nbformat_minor": 0
}
