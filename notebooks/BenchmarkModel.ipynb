{
 "cells": [
  {
   "cell_type": "markdown",
   "metadata": {},
   "source": [
    "** Objective: Create a model that would serve as benchmark for rest of the sessions. **\n",
    "\n",
    "* Use the feature relevance df prepared in the data exploration phase for different target variable.\n",
    "* See which of the target variables have high mcrmse score.\n",
    "* Set up a solid cross validation scheme.\n",
    "* Verify gains in the cross-validations translate to public leaderboard."
   ]
  },
  {
   "cell_type": "code",
   "execution_count": 74,
   "metadata": {
    "collapsed": true
   },
   "outputs": [],
   "source": [
    "%matplotlib inline\n",
    "\n",
    "import pandas as pd\n",
    "import numpy as np\n",
    "import os, sys\n",
    "\n",
    "import matplotlib.pyplot as plt\n",
    "import seaborn as sns\n",
    "\n",
    "from sklearn.cross_validation import train_test_split\n",
    "from sklearn.linear_model import Ridge\n",
    "from sklearn.ensemble import RandomForestRegressor\n",
    "from sklearn.preprocessing import LabelEncoder, MinMaxScaler, StandardScaler\n",
    "from sklearn.feature_selection import f_classif, SelectKBest\n",
    "from sklearn.svm import SVR\n",
    "from sklearn.pipeline import Pipeline\n",
    "from sklearn.decomposition import RandomizedPCA\n",
    "from sklearn.externals import joblib\n",
    "\n",
    "import xgboost as xgb\n",
    "\n",
    "sns.set_style('whitegrid')\n",
    "sns.set_context('poster')\n",
    "\n",
    "import warnings\n",
    "warnings.filterwarnings('ignore')\n",
    "\n",
    "basepath = os.path.expanduser('~/Desktop/src/African_Soil_Property_Prediction/')\n",
    "sys.path.append(os.path.join(basepath, 'src'))\n",
    "\n",
    "np.random.seed(0)\n",
    "\n",
    "from models import eval_metric, cross_validation"
   ]
  },
  {
   "cell_type": "code",
   "execution_count": 2,
   "metadata": {
    "collapsed": true
   },
   "outputs": [],
   "source": [
    "# load files\n",
    "train = pd.read_csv(os.path.join(basepath, 'data/raw/training.csv'))\n",
    "test = pd.read_csv(os.path.join(basepath, 'data/raw/sorted_test.csv'))\n",
    "sample_sub = pd.read_csv(os.path.join(basepath, 'data/raw/sample_submission.csv'))"
   ]
  },
  {
   "cell_type": "code",
   "execution_count": 3,
   "metadata": {
    "collapsed": true
   },
   "outputs": [],
   "source": [
    "class Data:\n",
    "    def __init__(self, train, test):\n",
    "        self.train = train\n",
    "        self.test = test\n",
    "    \n",
    "    def concat_data(self):\n",
    "        self.data = pd.concat((self.train, self.test), axis=0)\n",
    "        return self.data\n",
    "    \n",
    "    def non_infrared_features(self):\n",
    "        return self.train.columns[1:-5]\n",
    "    \n",
    "    def get_train_test(self):\n",
    "        mask = self.data.Ca.notnull()\n",
    "        train = self.data.loc[mask]\n",
    "        test = self.data.loc[~mask]\n",
    "        \n",
    "        return train, test\n",
    "    \n",
    "    def encode_categorical_features(self, feature_name):\n",
    "        lbl = LabelEncoder()\n",
    "        lbl.fit(self.data[feature_name])\n",
    "        \n",
    "        self.data[feature_name] = lbl.transform(self.data[feature_name])\n",
    "        return self.data[feature_name]"
   ]
  },
  {
   "cell_type": "code",
   "execution_count": 4,
   "metadata": {
    "collapsed": true
   },
   "outputs": [],
   "source": [
    "d = Data(train, test)"
   ]
  },
  {
   "cell_type": "code",
   "execution_count": 5,
   "metadata": {
    "collapsed": false
   },
   "outputs": [],
   "source": [
    "features = d.non_infrared_features()\n",
    "d.concat_data()\n",
    "d.encode_categorical_features('Depth')\n",
    "train_, test_ = d.get_train_test()"
   ]
  },
  {
   "cell_type": "code",
   "execution_count": 6,
   "metadata": {
    "collapsed": true
   },
   "outputs": [],
   "source": [
    "X       = train_[features]\n",
    "Xtest   = test_[features]\n",
    "\n",
    "y_Ca    = train_.Ca\n",
    "y_SOC   = train_.SOC\n",
    "y_Sand  = train_.Sand\n",
    "y_pH    = train_.pH\n",
    "y_P     = train_.P"
   ]
  },
  {
   "cell_type": "markdown",
   "metadata": {},
   "source": [
    "** Evaluation Metric : Mean Column Root Mean Squared Error ( MCRMSE ) ** "
   ]
  },
  {
   "cell_type": "code",
   "execution_count": 7,
   "metadata": {
    "collapsed": false
   },
   "outputs": [],
   "source": [
    "params = {\n",
    "    'test_size': 0.2,\n",
    "    'random_state': 3\n",
    "}\n",
    "\n",
    "itrain, itest = cross_validation.split_dataset(len(X), **params)\n",
    "\n",
    "X_train       = X.iloc[itrain]\n",
    "X_test        = X.iloc[itest]\n",
    "\n",
    "y_train_Ca    = y_Ca.iloc[itrain]\n",
    "y_test_Ca     = y_Ca.iloc[itest]\n",
    "\n",
    "y_train_P     = y_P.iloc[itrain]\n",
    "y_test_P      = y_P.iloc[itest]\n",
    "\n",
    "y_train_Sand  = y_Sand.iloc[itrain]\n",
    "y_test_Sand   = y_Sand.iloc[itest]\n",
    "\n",
    "y_train_SOC   = y_SOC.iloc[itrain]\n",
    "y_test_SOC    = y_SOC.iloc[itest]\n",
    "\n",
    "y_train_pH    = y_pH.iloc[itrain]\n",
    "y_test_pH     = y_pH.iloc[itest]"
   ]
  },
  {
   "cell_type": "code",
   "execution_count": 96,
   "metadata": {
    "collapsed": true
   },
   "outputs": [],
   "source": [
    "pipeline1 = Pipeline([\n",
    "        ('pca', RandomizedPCA(n_components=200, whiten=True, random_state=4)),\n",
    "        ('scale', StandardScaler()),\n",
    "        ('model', xgb.XGBRegressor(colsample_bytree=0.6))\n",
    "    ])\n",
    "\n",
    "pipeline2 = Pipeline([\n",
    "        ('pca', RandomizedPCA(n_components=200, whiten=True, random_state=4)),\n",
    "        ('scale', StandardScaler()),\n",
    "        ('model', xgb.XGBRegressor(colsample_bytree=0.6))\n",
    "    ])\n",
    "\n",
    "pipeline3 = Pipeline([\n",
    "        ('pca', RandomizedPCA(n_components=200, whiten=True, random_state=4)),\n",
    "        ('scale', StandardScaler()),\n",
    "        ('model', xgb.XGBRegressor(colsample_bytree=0.6))\n",
    "    ])\n",
    "\n",
    "pipeline4 = Pipeline([\n",
    "        ('pca', RandomizedPCA(n_components=200, whiten=True, random_state=4)),\n",
    "        ('scale', StandardScaler()),\n",
    "        ('model', xgb.XGBRegressor(colsample_bytree=0.6))\n",
    "    ])\n",
    "\n",
    "pipeline5 = Pipeline([\n",
    "        ('pca', RandomizedPCA(n_components=200, whiten=True, random_state=4)),\n",
    "        ('scale', StandardScaler()),\n",
    "        ('model', xgb.XGBRegressor(colsample_bytree=0.6))\n",
    "    ])"
   ]
  },
  {
   "cell_type": "markdown",
   "metadata": {},
   "source": [
    "** Choose features based on the feature relevance data frame. **"
   ]
  },
  {
   "cell_type": "code",
   "execution_count": 97,
   "metadata": {
    "collapsed": true
   },
   "outputs": [],
   "source": [
    "feature_rel_df = joblib.load(os.path.join(basepath, 'data/interim/feature_relevance'))"
   ]
  },
  {
   "cell_type": "code",
   "execution_count": 98,
   "metadata": {
    "collapsed": false
   },
   "outputs": [],
   "source": [
    "top_2000_features_Ca    = feature_rel_df.sort_values(by='Ca_r_squared').variables[:1000]\n",
    "top_2000_features_P     = feature_rel_df.sort_values(by='P_r_squared').variables[:1000]\n",
    "top_2000_features_Sand  = feature_rel_df.sort_values(by='Sand_r_squared').variables[:1000]\n",
    "top_2000_features_SOC   = feature_rel_df.sort_values(by='SOC_r_squared').variables[:1000]\n",
    "top_2000_features_pH    = feature_rel_df.sort_values(by='pH_r_squared').variables[:1000]"
   ]
  },
  {
   "cell_type": "markdown",
   "metadata": {},
   "source": [
    "** Public Leaderboard Score: 0.55002, Private Leaderboard Score: 0.53763 **"
   ]
  },
  {
   "cell_type": "code",
   "execution_count": 99,
   "metadata": {
    "collapsed": false
   },
   "outputs": [
    {
     "data": {
      "text/plain": [
       "Pipeline(steps=[('pca', RandomizedPCA(copy=True, iterated_power=3, n_components=200, random_state=4,\n",
       "       whiten=True)), ('scale', StandardScaler(copy=True, with_mean=True, with_std=True)), ('model', XGBRegressor(base_score=0.5, colsample_bylevel=1, colsample_bytree=0.6,\n",
       "       gamma=0, learning_rate=0.1, ...g:linear', reg_alpha=0, reg_lambda=1,\n",
       "       scale_pos_weight=1, seed=0, silent=True, subsample=1))])"
      ]
     },
     "execution_count": 99,
     "metadata": {},
     "output_type": "execute_result"
    }
   ],
   "source": [
    "pipeline1.fit(X_train[top_2000_features_Ca], y_train_Ca)\n",
    "pipeline2.fit(X_train[top_2000_features_P], y_train_P)\n",
    "pipeline3.fit(X_train[top_2000_features_Sand], y_train_Sand)\n",
    "pipeline4.fit(X_train[top_2000_features_SOC], y_train_SOC)\n",
    "pipeline5.fit(X_train[top_2000_features_pH], y_train_pH)"
   ]
  },
  {
   "cell_type": "code",
   "execution_count": 100,
   "metadata": {
    "collapsed": false
   },
   "outputs": [],
   "source": [
    "y_pred_Ca   = pipeline1.predict(X_test[top_2000_features_Ca])\n",
    "y_pred_P    = pipeline2.predict(X_test[top_2000_features_P])\n",
    "y_pred_Sand = pipeline3.predict(X_test[top_2000_features_Sand])\n",
    "y_pred_SOC  = pipeline4.predict(X_test[top_2000_features_SOC])\n",
    "y_pred_pH   = pipeline5.predict(X_test[top_2000_features_pH])"
   ]
  },
  {
   "cell_type": "code",
   "execution_count": 101,
   "metadata": {
    "collapsed": false
   },
   "outputs": [
    {
     "name": "stdout",
     "output_type": "stream",
     "text": [
      "MCRMSE on unseen examples: 0.576012\n"
     ]
    }
   ],
   "source": [
    "print('MCRMSE on unseen examples: %f'%eval_metric.mcrmse([y_test_Ca, y_test_P, y_test_pH, y_test_Sand, y_test_SOC], [y_pred_Ca, y_pred_P, y_pred_pH, y_pred_Sand, y_pred_SOC]))"
   ]
  },
  {
   "cell_type": "markdown",
   "metadata": {},
   "source": [
    "** Train model on full dataset. **"
   ]
  },
  {
   "cell_type": "code",
   "execution_count": 87,
   "metadata": {
    "collapsed": false
   },
   "outputs": [
    {
     "data": {
      "text/plain": [
       "Pipeline(steps=[('pca', RandomizedPCA(copy=True, iterated_power=3, n_components=50, random_state=4,\n",
       "       whiten=True)), ('scale', StandardScaler(copy=True, with_mean=True, with_std=True)), ('model', XGBRegressor(base_score=0.5, colsample_bylevel=1, colsample_bytree=1, gamma=0,\n",
       "       learning_rate=0.1, max...g:linear', reg_alpha=0, reg_lambda=1,\n",
       "       scale_pos_weight=1, seed=0, silent=True, subsample=1))])"
      ]
     },
     "execution_count": 87,
     "metadata": {},
     "output_type": "execute_result"
    }
   ],
   "source": [
    "pipeline1.fit(X[top_2000_features_Ca], y_Ca)\n",
    "pipeline2.fit(X[top_2000_features_P], y_P)\n",
    "pipeline3.fit(X[top_2000_features_Sand], y_Sand)\n",
    "pipeline4.fit(X[top_2000_features_SOC], y_SOC)\n",
    "pipeline5.fit(X[top_2000_features_pH], y_pH)"
   ]
  },
  {
   "cell_type": "code",
   "execution_count": 88,
   "metadata": {
    "collapsed": false
   },
   "outputs": [],
   "source": [
    "predict_Ca   = pipeline1.predict(Xtest[top_2000_features_Ca]) \n",
    "predict_P    = pipeline2.predict(Xtest[top_2000_features_P])\n",
    "predict_Sand = pipeline3.predict(Xtest[top_2000_features_Sand])\n",
    "predict_SOC  = pipeline4.predict(Xtest[top_2000_features_SOC])\n",
    "predict_pH   = pipeline5.predict(Xtest[top_2000_features_pH])"
   ]
  },
  {
   "cell_type": "code",
   "execution_count": 89,
   "metadata": {
    "collapsed": false
   },
   "outputs": [],
   "source": [
    "sample_sub['Ca']   = predict_Ca\n",
    "sample_sub['P']    = predict_P\n",
    "sample_sub['pH']   = predict_pH\n",
    "sample_sub['SOC']  = predict_SOC\n",
    "sample_sub['Sand'] = predict_Sand"
   ]
  },
  {
   "cell_type": "code",
   "execution_count": 90,
   "metadata": {
    "collapsed": true
   },
   "outputs": [],
   "source": [
    "sample_sub.to_csv(os.path.join(basepath, 'submissions/feature_relevance_xgbregressor.csv'), index=False)"
   ]
  },
  {
   "cell_type": "code",
   "execution_count": null,
   "metadata": {
    "collapsed": true
   },
   "outputs": [],
   "source": []
  }
 ],
 "metadata": {
  "kernelspec": {
   "display_name": "Python [Root]",
   "language": "python",
   "name": "Python [Root]"
  },
  "language_info": {
   "codemirror_mode": {
    "name": "ipython",
    "version": 3
   },
   "file_extension": ".py",
   "mimetype": "text/x-python",
   "name": "python",
   "nbconvert_exporter": "python",
   "pygments_lexer": "ipython3",
   "version": "3.5.2"
  }
 },
 "nbformat": 4,
 "nbformat_minor": 0
}
