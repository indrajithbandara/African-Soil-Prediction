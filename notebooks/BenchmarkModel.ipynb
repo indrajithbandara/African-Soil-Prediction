{
 "cells": [
  {
   "cell_type": "code",
   "execution_count": 146,
   "metadata": {
    "collapsed": true
   },
   "outputs": [],
   "source": [
    "%matplotlib inline\n",
    "\n",
    "import pandas as pd\n",
    "import numpy as np\n",
    "import os, sys\n",
    "\n",
    "import matplotlib.pyplot as plt\n",
    "import seaborn as sns\n",
    "\n",
    "from sklearn.cross_validation import train_test_split\n",
    "from sklearn.linear_model import LinearRegression\n",
    "from sklearn.ensemble import RandomForestRegressor\n",
    "from sklearn.preprocessing import LabelEncoder, MinMaxScaler, StandardScaler\n",
    "from sklearn.feature_selection import f_classif, SelectKBest\n",
    "from sklearn.svm import SVR\n",
    "from sklearn.pipeline import Pipeline\n",
    "from sklearn.decomposition import RandomizedPCA\n",
    "\n",
    "sns.set_style('whitegrid')\n",
    "sns.set_context('poster')\n",
    "\n",
    "import warnings\n",
    "warnings.filterwarnings('ignore')\n",
    "\n",
    "basepath = os.path.expanduser('~/Desktop/src/African_Soil_Property_Prediction/')\n",
    "sys.path.append(os.path.join(basepath, 'src'))\n",
    "\n",
    "np.random.seed(0)"
   ]
  },
  {
   "cell_type": "code",
   "execution_count": 2,
   "metadata": {
    "collapsed": true
   },
   "outputs": [],
   "source": [
    "# load files\n",
    "train = pd.read_csv(os.path.join(basepath, 'data/raw/training.csv'))\n",
    "test = pd.read_csv(os.path.join(basepath, 'data/raw/sorted_test.csv'))\n",
    "sample_sub = pd.read_csv(os.path.join(basepath, 'data/raw/sample_submission.csv'))"
   ]
  },
  {
   "cell_type": "code",
   "execution_count": 86,
   "metadata": {
    "collapsed": true
   },
   "outputs": [],
   "source": [
    "class Data:\n",
    "    def __init__(self, train, test):\n",
    "        self.train = train\n",
    "        self.test = test\n",
    "    \n",
    "    def concat_data(self):\n",
    "        self.data = pd.concat((self.train, self.test), axis=0)\n",
    "        return self.data\n",
    "    \n",
    "    def non_infrared_features(self):\n",
    "        return self.train.columns[1:-5]\n",
    "    \n",
    "    def get_train_test(self):\n",
    "        mask = self.data.Ca.notnull()\n",
    "        train = self.data.loc[mask]\n",
    "        test = self.data.loc[~mask]\n",
    "        \n",
    "        return train, test\n",
    "    \n",
    "    def encode_categorical_features(self, feature_name):\n",
    "        lbl = LabelEncoder()\n",
    "        lbl.fit(self.data[feature_name])\n",
    "        \n",
    "        self.data[feature_name] = lbl.transform(self.data[feature_name])\n",
    "        return self.data[feature_name]"
   ]
  },
  {
   "cell_type": "code",
   "execution_count": 110,
   "metadata": {
    "collapsed": true
   },
   "outputs": [],
   "source": [
    "d = Data(train, test)"
   ]
  },
  {
   "cell_type": "code",
   "execution_count": 111,
   "metadata": {
    "collapsed": false
   },
   "outputs": [],
   "source": [
    "features = d.non_infrared_features()\n",
    "d.concat_data()\n",
    "d.encode_categorical_features('Depth')\n",
    "train_, test_ = d.get_train_test()"
   ]
  },
  {
   "cell_type": "code",
   "execution_count": 112,
   "metadata": {
    "collapsed": true
   },
   "outputs": [],
   "source": [
    "X = train_[features]\n",
    "Xtest = test_[features]\n",
    "\n",
    "y_Ca = train_.Ca\n",
    "y_SOC = train_.SOC\n",
    "y_Sand = train_.Sand\n",
    "y_pH = train_.pH\n",
    "y_P = train_.P"
   ]
  },
  {
   "cell_type": "markdown",
   "metadata": {},
   "source": [
    "** Evaluation Metric : Mean Column Root Mean Squared Error ( MCRMSE ) ** "
   ]
  },
  {
   "cell_type": "code",
   "execution_count": 113,
   "metadata": {
    "collapsed": false
   },
   "outputs": [],
   "source": [
    "def mcrmse(ytrue, ypred):\n",
    "    s = 0\n",
    "    \n",
    "    for j in range(len(ytrue)):\n",
    "        diff = (ytrue[j] - ypred[j]) ** 2\n",
    "        diff_sum = np.sum(diff)\n",
    "        s = s + np.sqrt((1/len(ytrue[j])) * diff_sum)\n",
    "    \n",
    "    return (1/5) * s"
   ]
  },
  {
   "cell_type": "code",
   "execution_count": 114,
   "metadata": {
    "collapsed": true
   },
   "outputs": [],
   "source": [
    "def split_dataset(train_length, **params):\n",
    "    itrain, itest = train_test_split(range(train_length), **params)\n",
    "    \n",
    "    return itrain, itest"
   ]
  },
  {
   "cell_type": "code",
   "execution_count": 115,
   "metadata": {
    "collapsed": false
   },
   "outputs": [],
   "source": [
    "params = {\n",
    "    'test_size': 0.2,\n",
    "    'random_state': 3\n",
    "}\n",
    "\n",
    "itrain, itest = split_dataset(len(X), **params)\n",
    "\n",
    "X_train = X.iloc[itrain]\n",
    "X_test = X.iloc[itest]\n",
    "\n",
    "y_train_Ca = y_Ca.iloc[itrain]\n",
    "y_test_Ca = y_Ca.iloc[itest]\n",
    "\n",
    "y_train_P = y_P.iloc[itrain]\n",
    "y_test_P = y_P.iloc[itest]\n",
    "\n",
    "y_train_Sand = y_Sand.iloc[itrain]\n",
    "y_test_Sand = y_Sand.iloc[itest]\n",
    "\n",
    "y_train_SOC = y_SOC.iloc[itrain]\n",
    "y_test_SOC = y_SOC.iloc[itest]\n",
    "\n",
    "y_train_pH = y_pH.iloc[itrain]\n",
    "y_test_pH = y_pH.iloc[itest]"
   ]
  },
  {
   "cell_type": "code",
   "execution_count": 161,
   "metadata": {
    "collapsed": true
   },
   "outputs": [],
   "source": [
    "pipeline1 = Pipeline([\n",
    "        ('pca', RandomizedPCA(n_components=100, whiten=True, random_state=4)),\n",
    "        ('scale', StandardScaler()),\n",
    "        ('model', SVR(kernel='rbf'))\n",
    "    ])\n",
    "\n",
    "pipeline2 = Pipeline([\n",
    "        ('pca', RandomizedPCA(n_components=100, whiten=True, random_state=4)),\n",
    "        ('scale', StandardScaler()),\n",
    "        ('model', SVR(kernel='rbf'))\n",
    "    ])\n",
    "\n",
    "pipeline3 = Pipeline([\n",
    "        ('pca', RandomizedPCA(n_components=100, whiten=True, random_state=4)),\n",
    "        ('scale', StandardScaler()),\n",
    "        ('model', SVR(kernel='rbf'))\n",
    "    ])\n",
    "\n",
    "pipeline4 = Pipeline([\n",
    "        ('pca', RandomizedPCA(n_components=100, whiten=True, random_state=4)),\n",
    "        ('scale', StandardScaler()),\n",
    "        ('model', SVR(kernel='rbf'))\n",
    "    ])\n",
    "\n",
    "pipeline5 = Pipeline([\n",
    "        ('pca', RandomizedPCA(n_components=100, whiten=True, random_state=4)),\n",
    "        ('scale', StandardScaler()),\n",
    "        ('model', SVR(kernel='rbf'))\n",
    "    ])"
   ]
  },
  {
   "cell_type": "markdown",
   "metadata": {},
   "source": [
    "** Private Leaderboard Score: 0.54610 **"
   ]
  },
  {
   "cell_type": "code",
   "execution_count": 153,
   "metadata": {
    "collapsed": false
   },
   "outputs": [
    {
     "data": {
      "text/plain": [
       "Pipeline(steps=[('pca', RandomizedPCA(copy=True, iterated_power=3, n_components=100, random_state=4,\n",
       "       whiten=True)), ('scale', StandardScaler(copy=True, with_mean=True, with_std=True)), ('model', SVR(C=1.0, cache_size=200, coef0=0.0, degree=3, epsilon=0.1, gamma='auto',\n",
       "  kernel='linear', max_iter=-1, shrinking=True, tol=0.001, verbose=False))])"
      ]
     },
     "execution_count": 153,
     "metadata": {},
     "output_type": "execute_result"
    }
   ],
   "source": [
    "pipeline1.fit(X_train, y_train_Ca)\n",
    "pipeline2.fit(X_train, y_train_P)\n",
    "pipeline3.fit(X_train, y_train_Sand)\n",
    "pipeline4.fit(X_train, y_train_SOC)\n",
    "pipeline5.fit(X_train, y_train_pH)"
   ]
  },
  {
   "cell_type": "code",
   "execution_count": 154,
   "metadata": {
    "collapsed": false
   },
   "outputs": [],
   "source": [
    "y_pred_Ca = pipeline1.predict(X_test)\n",
    "y_pred_P = pipeline2.predict(X_test)\n",
    "y_pred_Sand = pipeline3.predict(X_test)\n",
    "y_pred_SOC = pipeline4.predict(X_test)\n",
    "y_pred_pH = pipeline5.predict(X_test)"
   ]
  },
  {
   "cell_type": "code",
   "execution_count": 155,
   "metadata": {
    "collapsed": false
   },
   "outputs": [
    {
     "name": "stdout",
     "output_type": "stream",
     "text": [
      "MCRMSE on unseen examples: 0.479048\n"
     ]
    }
   ],
   "source": [
    "print('MCRMSE on unseen examples: %f'%mcrmse([y_test_Ca, y_test_P, y_test_pH, y_test_Sand, y_test_SOC], [y_pred_Ca, y_pred_P, y_pred_pH, y_pred_Sand, y_pred_SOC]))"
   ]
  },
  {
   "cell_type": "markdown",
   "metadata": {},
   "source": [
    "** Train model on full dataset. **"
   ]
  },
  {
   "cell_type": "code",
   "execution_count": 157,
   "metadata": {
    "collapsed": false
   },
   "outputs": [
    {
     "data": {
      "text/plain": [
       "Pipeline(steps=[('pca', RandomizedPCA(copy=True, iterated_power=3, n_components=100, random_state=4,\n",
       "       whiten=True)), ('scale', StandardScaler(copy=True, with_mean=True, with_std=True)), ('model', SVR(C=1.0, cache_size=200, coef0=0.0, degree=3, epsilon=0.1, gamma='auto',\n",
       "  kernel='linear', max_iter=-1, shrinking=True, tol=0.001, verbose=False))])"
      ]
     },
     "execution_count": 157,
     "metadata": {},
     "output_type": "execute_result"
    }
   ],
   "source": [
    "pipeline1.fit(X, y_Ca)\n",
    "pipeline2.fit(X, y_P)\n",
    "pipeline3.fit(X, y_Sand)\n",
    "pipeline4.fit(X, y_SOC)\n",
    "pipeline5.fit(X, y_pH)"
   ]
  },
  {
   "cell_type": "code",
   "execution_count": 158,
   "metadata": {
    "collapsed": false
   },
   "outputs": [],
   "source": [
    "predict_Ca = pipeline1.predict(Xtest) \n",
    "predict_P = pipeline2.predict(Xtest)\n",
    "predict_Sand = pipeline3.predict(Xtest)\n",
    "predict_SOC = pipeline4.predict(Xtest)\n",
    "predict_pH = pipeline5.predict(Xtest)"
   ]
  },
  {
   "cell_type": "code",
   "execution_count": 159,
   "metadata": {
    "collapsed": false
   },
   "outputs": [],
   "source": [
    "sample_sub['Ca'] = predict_Ca\n",
    "sample_sub['P'] = predict_P\n",
    "sample_sub['pH'] = predict_pH\n",
    "sample_sub['SOC'] = predict_SOC\n",
    "sample_sub['Sand'] = predict_Sand"
   ]
  },
  {
   "cell_type": "code",
   "execution_count": 160,
   "metadata": {
    "collapsed": true
   },
   "outputs": [],
   "source": [
    "sample_sub.to_csv(os.path.join(basepath, 'submissions/randomized_pca.csv'), index=False)"
   ]
  },
  {
   "cell_type": "code",
   "execution_count": null,
   "metadata": {
    "collapsed": true
   },
   "outputs": [],
   "source": []
  }
 ],
 "metadata": {
  "kernelspec": {
   "display_name": "Python [Root]",
   "language": "python",
   "name": "Python [Root]"
  },
  "language_info": {
   "codemirror_mode": {
    "name": "ipython",
    "version": 3
   },
   "file_extension": ".py",
   "mimetype": "text/x-python",
   "name": "python",
   "nbconvert_exporter": "python",
   "pygments_lexer": "ipython3",
   "version": "3.5.2"
  }
 },
 "nbformat": 4,
 "nbformat_minor": 0
}
