{
 "cells": [
  {
   "cell_type": "markdown",
   "metadata": {},
   "source": [
    "** Objective **\n",
    "\n",
    "* Learn to create an experiment for different types of datasets and classifiers ?\n",
    "* Learn to do blending and multi-stage prediction ?\n"
   ]
  },
  {
   "cell_type": "code",
   "execution_count": 2,
   "metadata": {
    "collapsed": false
   },
   "outputs": [],
   "source": [
    "import pandas as pd\n",
    "import numpy as np\n",
    "import os, sys\n",
    "\n",
    "from sklearn.preprocessing import MinMaxScaler, StandardScaler\n",
    "from sklearn.decomposition import PCA\n",
    "from sklearn.pipeline import Pipeline\n",
    "from sklearn.feature_selection import f_classif, SelectKBest\n",
    "from sklearn.svm import SVR\n",
    "from sklearn.ensemble import BaggingRegressor\n",
    "from sklearn.externals import joblib\n",
    "\n",
    "import warnings\n",
    "warnings.filterwarnings('ignore')\n",
    "\n",
    "basepath = os.path.expanduser('~/Desktop/src/African_Soil_Property_Prediction/')\n",
    "sys.path.append(os.path.join(basepath, 'src'))\n",
    "\n",
    "np.random.seed(2)\n",
    "\n",
    "from models import cross_validation, eval_metric, models_definition, find_weights\n",
    "from helper import utils"
   ]
  },
  {
   "cell_type": "code",
   "execution_count": 3,
   "metadata": {
    "collapsed": true
   },
   "outputs": [],
   "source": [
    "dataset_name = 'dataset_2'"
   ]
  },
  {
   "cell_type": "code",
   "execution_count": 4,
   "metadata": {
    "collapsed": false
   },
   "outputs": [],
   "source": [
    "# load files\n",
    "train = pd.read_csv(os.path.join(basepath, 'data/raw/training.csv'))\n",
    "test = pd.read_csv(os.path.join(basepath, 'data/raw/sorted_test.csv'))\n",
    "sample_sub = pd.read_csv(os.path.join(basepath, 'data/raw/sample_submission.csv'))"
   ]
  },
  {
   "cell_type": "markdown",
   "metadata": {},
   "source": [
    "** Dataset should will be loaded into the memory ** "
   ]
  },
  {
   "cell_type": "code",
   "execution_count": 5,
   "metadata": {
    "collapsed": false
   },
   "outputs": [],
   "source": [
    "# load a dataset\n",
    "def load_dataset(train_filepath, test_filepath):\n",
    "    train_    = joblib.load(os.path.join(basepath, train_filepath))\n",
    "    test_     = joblib.load(os.path.join(basepath, test_filepath))\n",
    "    \n",
    "    return train_, test_"
   ]
  },
  {
   "cell_type": "code",
   "execution_count": 7,
   "metadata": {
    "collapsed": true
   },
   "outputs": [],
   "source": [
    "labels  = ['Ca', 'P', 'Sand', 'SOC', 'pH']\n",
    "\n",
    "trains_ = []\n",
    "tests_  = []\n",
    "\n",
    "for i in range(len(labels)):\n",
    "    # let's load a dataset\n",
    "    train_filepath = 'data/processed/%s/%s/train/train'%(dataset_name, labels[i])\n",
    "    test_filepath  = 'data/processed/%s/%s/test/test'%(dataset_name, labels[i])\n",
    "\n",
    "    train_, test_  = load_dataset(train_filepath, test_filepath)\n",
    "    \n",
    "    trains_.append(train_)\n",
    "    tests_.append(test_)"
   ]
  },
  {
   "cell_type": "code",
   "execution_count": 8,
   "metadata": {
    "collapsed": true
   },
   "outputs": [],
   "source": [
    "# define target variables\n",
    "\n",
    "def define_target_variables(train):    \n",
    "    y_Ca    = train.Ca\n",
    "    y_P     = train.P\n",
    "    y_Sand  = train.Sand\n",
    "    y_SOC   = train.SOC\n",
    "    y_pH    = train.pH\n",
    "    \n",
    "    return y_Ca, y_P, y_Sand, y_SOC, y_pH\n",
    "\n",
    "y_Ca, y_P, y_Sand, y_SOC, y_pH = define_target_variables(train)"
   ]
  },
  {
   "cell_type": "markdown",
   "metadata": {},
   "source": [
    "** Split datasets into training and test set. **"
   ]
  },
  {
   "cell_type": "code",
   "execution_count": 9,
   "metadata": {
    "collapsed": false
   },
   "outputs": [],
   "source": [
    "# lets get the train and test indices\n",
    "\n",
    "params = {\n",
    "    'test_size' : 0.2,\n",
    "    'random_state' : 4\n",
    "}\n",
    "\n",
    "itrain, itest = cross_validation.split_dataset(len(train), **params)"
   ]
  },
  {
   "cell_type": "code",
   "execution_count": 10,
   "metadata": {
    "collapsed": false
   },
   "outputs": [],
   "source": [
    "X_train_Ca, X_test_Ca        = utils.get_Xs(trains_[0], itrain, itest) \n",
    "X_train_P, X_test_P          = utils.get_Xs(trains_[1], itrain, itest) \n",
    "X_train_Sand, X_test_Sand    = utils.get_Xs(trains_[2], itrain, itest) \n",
    "X_train_SOC, X_test_SOC      = utils.get_Xs(trains_[3], itrain, itest) \n",
    "X_train_pH, X_test_pH        = utils.get_Xs(trains_[4], itrain, itest)\n",
    "\n",
    "X_trains = [X_train_Ca, X_train_P, X_train_Sand, X_train_SOC, X_train_pH]\n",
    "X_tests = [X_test_Ca, X_test_P, X_test_Sand, X_test_SOC, X_test_pH]\n",
    "\n",
    "y_trains, y_tests  = utils.get_Ys(y_Ca, y_P, y_Sand, y_SOC, y_pH, itrain, itest)\n",
    "\n",
    "y_train_Ca, y_train_P, y_train_Sand, y_train_SOC, y_train_pH = y_trains\n",
    "y_test_Ca, y_test_P, y_test_Sand, y_test_SOC, y_test_pH = y_tests"
   ]
  },
  {
   "cell_type": "markdown",
   "metadata": {},
   "source": [
    "** List of Models. **"
   ]
  },
  {
   "cell_type": "code",
   "execution_count": 77,
   "metadata": {
    "collapsed": true
   },
   "outputs": [],
   "source": [
    "models = models_definition.get_models_by_dataset('dataset_2')"
   ]
  },
  {
   "cell_type": "markdown",
   "metadata": {},
   "source": [
    "** Train Models **"
   ]
  },
  {
   "cell_type": "code",
   "execution_count": null,
   "metadata": {
    "collapsed": false
   },
   "outputs": [
    {
     "name": "stdout",
     "output_type": "stream",
     "text": [
      "Model saved successfully\n"
     ]
    }
   ],
   "source": [
    "labels      = ['Ca', 'P', 'Sand', 'SOC', 'pH']\n",
    "model_names = ['rbf', 'linear', 'poly']\n",
    "\n",
    "test_preds = np.empty((len(labels), len(model_names)), dtype=np.ndarray)\n",
    "\n",
    "for i in range(len(labels)):\n",
    "    for j in range(len(model_names)):\n",
    "        model = utils.train_model(models[j], X_trains[i], y_trains[i], 'dataset_2', labels[i], model_names[j])\n",
    "        test_preds[i, j] = utils.predict_targets(model, X_tests[i])"
   ]
  },
  {
   "cell_type": "markdown",
   "metadata": {},
   "source": [
    "** Load and predict. **"
   ]
  },
  {
   "cell_type": "code",
   "execution_count": 12,
   "metadata": {
    "collapsed": false
   },
   "outputs": [],
   "source": [
    "labels      = ['Ca', 'P', 'Sand', 'SOC', 'pH']\n",
    "model_names = ['rbf', 'linear', 'poly']\n",
    "\n",
    "test_preds = np.empty((len(labels), len(model_names)), dtype=np.ndarray)\n",
    "\n",
    "for i in range(len(labels)):\n",
    "    for j in range(len(model_names)):\n",
    "        model = joblib.load(os.path.join(basepath, 'data/processed/%s/%s/models/%s/%s'%(dataset_name, labels[i], model_names[j], model_names[j])))\n",
    "        test_preds[i, j] = utils.predict_targets(model, X_tests[i])"
   ]
  },
  {
   "cell_type": "code",
   "execution_count": 13,
   "metadata": {
    "collapsed": false
   },
   "outputs": [
    {
     "name": "stdout",
     "output_type": "stream",
     "text": [
      "MCRMSE for linear kernel for Ca:  0.401379293931\n"
     ]
    }
   ],
   "source": [
    "print('MCRMSE for linear kernel for Ca: ', eval_metric.mcrmse([y_test_Ca, y_test_P, y_test_Sand, y_test_SOC, y_test_pH], \n",
    "                                                              [\n",
    "                                                                test_preds[0][1],\n",
    "                                                                test_preds[1][1],\n",
    "                                                                test_preds[2][1],\n",
    "                                                                test_preds[3][1],\n",
    "                                                                test_preds[4][1]\n",
    "                                                              ]))"
   ]
  },
  {
   "cell_type": "code",
   "execution_count": 14,
   "metadata": {
    "collapsed": false
   },
   "outputs": [
    {
     "name": "stdout",
     "output_type": "stream",
     "text": [
      "MCRMSE for rbf kernel for Ca:  0.61664174585\n"
     ]
    }
   ],
   "source": [
    "print('MCRMSE for rbf kernel for Ca: ', eval_metric.mcrmse([y_test_Ca, y_test_P, y_test_Sand, y_test_SOC, y_test_pH], \n",
    "                                                              [\n",
    "                                                                test_preds[0][0],\n",
    "                                                                test_preds[1][0],\n",
    "                                                                test_preds[2][0],\n",
    "                                                                test_preds[3][0],\n",
    "                                                                test_preds[4][0]\n",
    "                                                              ]))"
   ]
  },
  {
   "cell_type": "code",
   "execution_count": 15,
   "metadata": {
    "collapsed": false
   },
   "outputs": [
    {
     "name": "stdout",
     "output_type": "stream",
     "text": [
      "MCRMSE for poly kernel for Ca:  0.680766693543\n"
     ]
    }
   ],
   "source": [
    "print('MCRMSE for poly kernel for Ca: ', eval_metric.mcrmse([y_test_Ca, y_test_P, y_test_Sand, y_test_SOC, y_test_pH], \n",
    "                                                              [\n",
    "                                                                test_preds[0][2],\n",
    "                                                                test_preds[1][2],\n",
    "                                                                test_preds[2][2],\n",
    "                                                                test_preds[3][2],\n",
    "                                                                test_preds[4][2]\n",
    "                                                              ]))"
   ]
  },
  {
   "cell_type": "code",
   "execution_count": 16,
   "metadata": {
    "collapsed": false
   },
   "outputs": [],
   "source": [
    "n_labels = 5\n",
    "\n",
    "weights = []\n",
    "balanced_preds = []\n",
    "y_true = [y_test_Ca, y_test_P, y_test_Sand, y_test_SOC, y_test_pH]\n",
    "\n",
    "for i in range(n_labels):\n",
    "    weight, balanced_pred = find_weights.find(y_true[i], test_preds[i])\n",
    "    \n",
    "    weights.append(weight)\n",
    "    balanced_preds.append(balanced_pred)"
   ]
  },
  {
   "cell_type": "code",
   "execution_count": 17,
   "metadata": {
    "collapsed": false
   },
   "outputs": [
    {
     "name": "stdout",
     "output_type": "stream",
     "text": [
      "MCRMSE for model: rbf for target: Ca is 0.929916\n",
      "MCRMSE for model: linear for target: Ca is 0.350117\n",
      "MCRMSE for model: poly for target: Ca is 0.830624\n",
      "\n",
      "Weights assigned to the predictions are: [ 0.          1.19156338  0.        ]\n",
      "MCRMSE for target: Ca for balanced predictions is 0.350117\n",
      "\n",
      "==========================\n",
      "\n",
      "MCRMSE for model: rbf for target: P is 0.707813\n",
      "MCRMSE for model: linear for target: P is 0.741905\n",
      "MCRMSE for model: poly for target: P is 0.721823\n",
      "\n",
      "Weights assigned to the predictions are: [ 1.2798643   0.          0.43037823]\n",
      "MCRMSE for target: P for balanced predictions is 0.711938\n",
      "\n",
      "==========================\n",
      "\n",
      "MCRMSE for model: rbf for target: Sand is 0.361651\n",
      "MCRMSE for model: linear for target: Sand is 0.318861\n",
      "MCRMSE for model: poly for target: Sand is 0.620944\n",
      "\n",
      "Weights assigned to the predictions are: [ 0.48101993  0.533108    0.10877343]\n",
      "MCRMSE for target: Sand for balanced predictions is 0.362202\n",
      "\n",
      "==========================\n",
      "\n",
      "MCRMSE for model: rbf for target: SOC is 0.610732\n",
      "MCRMSE for model: linear for target: SOC is 0.255781\n",
      "MCRMSE for model: poly for target: SOC is 0.680628\n",
      "\n",
      "Weights assigned to the predictions are: [ 0.          0.98898965  0.        ]\n",
      "MCRMSE for target: SOC for balanced predictions is 0.255781\n",
      "\n",
      "==========================\n",
      "\n",
      "MCRMSE for model: rbf for target: pH is 0.473096\n",
      "MCRMSE for model: linear for target: pH is 0.340232\n",
      "MCRMSE for model: poly for target: pH is 0.549816\n",
      "\n",
      "Weights assigned to the predictions are: [ 0.33146221  0.66475284  0.21135642]\n",
      "MCRMSE for target: pH for balanced predictions is 0.389776\n",
      "\n",
      "==========================\n",
      "\n"
     ]
    }
   ],
   "source": [
    "labels      = ['Ca', 'P', 'Sand', 'SOC', 'pH']\n",
    "model_names = ['rbf', 'linear', 'poly']\n",
    "\n",
    "for i in range(len(labels)):\n",
    "    for j in range(len(model_names)):\n",
    "        score = eval_metric.mcrmse([y_true[i]], [test_preds[i][j]])\n",
    "        print('MCRMSE for model: %s for target: %s is %f'%(model_names[j], labels[i], score))\n",
    "    \n",
    "    print('\\nWeights assigned to the predictions are: %s'%weights[i])\n",
    "    print('MCRMSE for target: %s for balanced predictions is %f'%(labels[i], eval_metric.mcrmse([y_tests[i]], [balanced_preds[i]])))\n",
    "    print('\\n==========================\\n')"
   ]
  },
  {
   "cell_type": "code",
   "execution_count": null,
   "metadata": {
    "collapsed": true
   },
   "outputs": [],
   "source": []
  }
 ],
 "metadata": {
  "anaconda-cloud": {},
  "kernelspec": {
   "display_name": "Python [Root]",
   "language": "python",
   "name": "Python [Root]"
  },
  "language_info": {
   "codemirror_mode": {
    "name": "ipython",
    "version": 3
   },
   "file_extension": ".py",
   "mimetype": "text/x-python",
   "name": "python",
   "nbconvert_exporter": "python",
   "pygments_lexer": "ipython3",
   "version": "3.5.2"
  }
 },
 "nbformat": 4,
 "nbformat_minor": 0
}
