{
 "cells": [
  {
   "cell_type": "markdown",
   "metadata": {},
   "source": [
    "** Objective **\n",
    "\n",
    "* Learn to create an experiment for different types of datasets and classifiers ?\n",
    "* Learn to do blending and multi-stage prediction ?\n",
    "\n",
    "** Blending for each and every target. **"
   ]
  },
  {
   "cell_type": "code",
   "execution_count": 1,
   "metadata": {
    "collapsed": false
   },
   "outputs": [],
   "source": [
    "import pandas as pd\n",
    "import numpy as np\n",
    "import os, sys\n",
    "\n",
    "from sklearn.preprocessing import MinMaxScaler, StandardScaler\n",
    "from sklearn.decomposition import RandomizedPCA\n",
    "from sklearn.pipeline import Pipeline\n",
    "from sklearn.feature_selection import f_classif, SelectKBest\n",
    "from sklearn.svm import SVR\n",
    "from sklearn.ensemble import BaggingRegressor\n",
    "from sklearn.externals import joblib\n",
    "\n",
    "import warnings\n",
    "warnings.filterwarnings('ignore')\n",
    "\n",
    "basepath = os.path.expanduser('~/Desktop/src/African_Soil_Property_Prediction/')\n",
    "sys.path.append(os.path.join(basepath, 'src'))\n",
    "\n",
    "np.random.seed(2)\n",
    "\n",
    "from models import cross_validation, eval_metric, models_definition, find_weights\n",
    "from helper import utils"
   ]
  },
  {
   "cell_type": "code",
   "execution_count": 2,
   "metadata": {
    "collapsed": false
   },
   "outputs": [],
   "source": [
    "# load files\n",
    "train = pd.read_csv(os.path.join(basepath, 'data/raw/training.csv'))\n",
    "test = pd.read_csv(os.path.join(basepath, 'data/raw/sorted_test.csv'))\n",
    "sample_sub = pd.read_csv(os.path.join(basepath, 'data/raw/sample_submission.csv'))"
   ]
  },
  {
   "cell_type": "markdown",
   "metadata": {},
   "source": [
    "** Dataset should will be loaded into the memory ** "
   ]
  },
  {
   "cell_type": "code",
   "execution_count": 3,
   "metadata": {
    "collapsed": false
   },
   "outputs": [],
   "source": [
    "# load a dataset\n",
    "def load_dataset(train_filepath, test_filepath):\n",
    "    train_    = joblib.load(os.path.join(basepath, train_filepath))\n",
    "    test_     = joblib.load(os.path.join(basepath, test_filepath))\n",
    "    \n",
    "    return train_, test_\n",
    "\n",
    "# let's load a dataset\n",
    "train_filepath = 'data/processed/dataset_1/train/train'\n",
    "test_filepath  = 'data/processed/dataset_1/test/test'\n",
    "\n",
    "train_, test_  = load_dataset(train_filepath, test_filepath)"
   ]
  },
  {
   "cell_type": "code",
   "execution_count": 4,
   "metadata": {
    "collapsed": true
   },
   "outputs": [],
   "source": [
    "# define target variables\n",
    "\n",
    "def define_target_variables(train):    \n",
    "    y_Ca    = train.Ca\n",
    "    y_P     = train.P\n",
    "    y_Sand  = train.Sand\n",
    "    y_SOC   = train.SOC\n",
    "    y_pH    = train.pH\n",
    "    \n",
    "    return y_Ca, y_P, y_Sand, y_SOC, y_pH\n",
    "\n",
    "y_Ca, y_P, y_Sand, y_SOC, y_pH = define_target_variables(train)"
   ]
  },
  {
   "cell_type": "markdown",
   "metadata": {},
   "source": [
    "** Split datasets into training and test set. **"
   ]
  },
  {
   "cell_type": "code",
   "execution_count": 5,
   "metadata": {
    "collapsed": false
   },
   "outputs": [],
   "source": [
    "# lets get the train and test indices\n",
    "\n",
    "params = {\n",
    "    'test_size' : 0.2,\n",
    "    'random_state' : 4\n",
    "}\n",
    "\n",
    "itrain, itest = cross_validation.split_dataset(len(train_), **params)"
   ]
  },
  {
   "cell_type": "code",
   "execution_count": 6,
   "metadata": {
    "collapsed": false
   },
   "outputs": [],
   "source": [
    "X_train, X_test    = utils.get_Xs(train_, itrain, itest) # split the dataset into training and test set.\n",
    "\n",
    "y_trains, y_tests  = utils.get_Ys(y_Ca, y_P, y_Sand, y_SOC, y_pH, itrain, itest)\n",
    "\n",
    "y_train_Ca, y_train_P, y_train_Sand, y_train_SOC, y_train_pH = y_trains\n",
    "y_test_Ca, y_test_P, y_test_Sand, y_test_SOC, y_test_pH = y_tests"
   ]
  },
  {
   "cell_type": "markdown",
   "metadata": {},
   "source": [
    "** List of Models. **"
   ]
  },
  {
   "cell_type": "code",
   "execution_count": 7,
   "metadata": {
    "collapsed": true
   },
   "outputs": [],
   "source": [
    "models = models_definition.get_models_by_dataset('dataset_3')"
   ]
  },
  {
   "cell_type": "code",
   "execution_count": 9,
   "metadata": {
    "collapsed": false
   },
   "outputs": [],
   "source": [
    "# Note: This takes considerable amount of time to train different models on a given dataset.\n",
    "# we are not explicitly stating the orer in any routine\n",
    "# but remember that the order of target labels are [Ca, P, Sand, SOC, pH]\n",
    "\n",
    "trained_models = utils.train_models(models, [X_train, X_train, X_train, X_train, X_train], \\\n",
    "                                      [y_train_Ca, y_train_P, y_train_Sand, y_train_SOC, y_train_pH])"
   ]
  },
  {
   "cell_type": "code",
   "execution_count": 10,
   "metadata": {
    "collapsed": false
   },
   "outputs": [],
   "source": [
    "# predictions\n",
    "predictions    = utils.predict_targets(trained_models, [X_test, X_test, X_test, X_test, X_test]) "
   ]
  },
  {
   "cell_type": "code",
   "execution_count": 11,
   "metadata": {
    "collapsed": false
   },
   "outputs": [],
   "source": [
    "n_labels = 5\n",
    "\n",
    "weights = []\n",
    "balanced_preds = []\n",
    "\n",
    "for i in range(n_labels):\n",
    "    weight, balanced_pred = find_weights.find(y_tests[i], predictions[i])\n",
    "    \n",
    "    weights.append(weight)\n",
    "    balanced_preds.append(balanced_pred)"
   ]
  },
  {
   "cell_type": "code",
   "execution_count": 12,
   "metadata": {
    "collapsed": false
   },
   "outputs": [
    {
     "name": "stdout",
     "output_type": "stream",
     "text": [
      "MCRMSE for model: rbf for target: Ca is 1.174373\n",
      "MCRMSE for model: linear for target: Ca is 1.186922\n",
      "MCRMSE for model: poly for target: Ca is 1.175080\n",
      "\n",
      "Weights assigned to the predictions are: [ 0.          0.88535948  0.        ]\n",
      "MCRMSE for target: Ca for balanced predictions is 0.936562\n",
      "\n",
      "==========================\n",
      "\n",
      "MCRMSE for model: rbf for target: P is 0.794164\n",
      "MCRMSE for model: linear for target: P is 0.786300\n",
      "MCRMSE for model: poly for target: P is 0.796661\n",
      "\n",
      "Weights assigned to the predictions are: [ 0.1688672   0.01180847  0.05437928]\n",
      "MCRMSE for target: P for balanced predictions is 0.879014\n",
      "\n",
      "==========================\n",
      "\n",
      "MCRMSE for model: rbf for target: Sand is 0.987496\n",
      "MCRMSE for model: linear for target: Sand is 1.007229\n",
      "MCRMSE for model: poly for target: Sand is 0.988067\n",
      "\n",
      "Weights assigned to the predictions are: [ 0.          0.          0.05468524]\n",
      "MCRMSE for target: Sand for balanced predictions is 1.033417\n",
      "\n",
      "==========================\n",
      "\n",
      "MCRMSE for model: rbf for target: SOC is 1.052535\n",
      "MCRMSE for model: linear for target: SOC is 1.068493\n",
      "MCRMSE for model: poly for target: SOC is 1.053214\n",
      "\n",
      "Weights assigned to the predictions are: [ 0.          0.12711669  0.        ]\n",
      "MCRMSE for target: SOC for balanced predictions is 1.260352\n",
      "\n",
      "==========================\n",
      "\n",
      "MCRMSE for model: rbf for target: pH is 0.903729\n",
      "MCRMSE for model: linear for target: pH is 0.896847\n",
      "MCRMSE for model: poly for target: pH is 0.905922\n",
      "\n",
      "Weights assigned to the predictions are: [ 0.17811053  0.87397772  0.19410514]\n",
      "MCRMSE for target: pH for balanced predictions is 0.489188\n",
      "\n",
      "==========================\n",
      "\n"
     ]
    }
   ],
   "source": [
    "labels      = ['Ca', 'P', 'Sand', 'SOC', 'pH']\n",
    "model_names = ['rbf', 'linear', 'poly']\n",
    "\n",
    "for i in range(len(labels)):\n",
    "    for j in range(len(model_names)):\n",
    "        score = eval_metric.mcrmse([y_tests[i]], predictions[i][j])\n",
    "        print('MCRMSE for model: %s for target: %s is %f'%(model_names[j], labels[i], score))\n",
    "    \n",
    "    print('\\nWeights assigned to the predictions are: %s'%weights[i])\n",
    "    print('MCRMSE for target: %s for balanced predictions is %f'%(labels[i], eval_metric.mcrmse([y_tests[i]], [balanced_preds[i]])))\n",
    "    print('\\n==========================\\n')"
   ]
  },
  {
   "cell_type": "code",
   "execution_count": null,
   "metadata": {
    "collapsed": true
   },
   "outputs": [],
   "source": []
  }
 ],
 "metadata": {
  "anaconda-cloud": {},
  "kernelspec": {
   "display_name": "Python [Root]",
   "language": "python",
   "name": "Python [Root]"
  },
  "language_info": {
   "codemirror_mode": {
    "name": "ipython",
    "version": 3
   },
   "file_extension": ".py",
   "mimetype": "text/x-python",
   "name": "python",
   "nbconvert_exporter": "python",
   "pygments_lexer": "ipython3",
   "version": "3.5.2"
  }
 },
 "nbformat": 4,
 "nbformat_minor": 0
}
